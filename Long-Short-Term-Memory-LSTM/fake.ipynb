{
  "cells": [
    {
      "cell_type": "code",
      "execution_count": null,
      "metadata": {
        "colab": {
          "base_uri": "https://localhost:8080/"
        },
        "id": "qZH1x6daD5lA",
        "outputId": "4c5d8385-33fb-4fd4-8b99-45972ba5accc"
      },
      "outputs": [
        {
          "output_type": "stream",
          "name": "stdout",
          "text": [
            "Mounted at /content/drive\n"
          ]
        }
      ],
      "source": [
        "from google.colab import drive\n",
        "drive.mount('/content/drive')"
      ]
    },
    {
      "cell_type": "markdown",
      "metadata": {
        "id": "FYaODXO2Dd6_"
      },
      "source": [
        "# Introduction\n",
        "\n",
        "\n",
        "In this analysis, we will discuss how you can use NLP to determine whether the news is real or fake. Nowadays, fake news has become a common problem. Even respected media organizations are known to propagate fake news and are losing credibility. It can be difficult to trust news, because it can be difficult to know whether a news story is real or fake."
      ]
    },
    {
      "cell_type": "markdown",
      "metadata": {
        "id": "ea-YBYVqDd7L"
      },
      "source": [
        "# Dataset\n",
        "1.train.csv: A full training dataset with the following attributes                                         \n",
        "2.id: unique id for a news article                                                                         \n",
        "3.title: the title of a news article                                                                       \n",
        "4.author: author of the news article                                                                       \n",
        "5.text: the text of the article; could be incomplete                                                       \n",
        "6.label: a label that marks the article as potentially unreliable. Where 0: reliable and 1: unreliable."
      ]
    },
    {
      "cell_type": "markdown",
      "metadata": {
        "id": "PPBmXOEVDd7N"
      },
      "source": [
        "# Importing important libraries"
      ]
    },
    {
      "cell_type": "code",
      "execution_count": null,
      "metadata": {
        "id": "L_jLZb6IDd7O"
      },
      "outputs": [],
      "source": [
        "import pandas as pd\n",
        "import numpy as np\n",
        "import tensorflow as tf"
      ]
    },
    {
      "cell_type": "code",
      "execution_count": null,
      "metadata": {
        "id": "BxY1sipGDd7S"
      },
      "outputs": [],
      "source": [
        "from tensorflow.keras.layers import Embedding\n",
        "from tensorflow.keras.preprocessing.sequence import pad_sequences\n",
        "from tensorflow.keras.models import Sequential\n",
        "from tensorflow.keras.preprocessing.text import one_hot\n",
        "from tensorflow.keras.layers import LSTM\n",
        "from tensorflow.keras.layers import Dense"
      ]
    },
    {
      "cell_type": "code",
      "execution_count": null,
      "metadata": {
        "id": "A9W6DdpLDd7f"
      },
      "outputs": [],
      "source": [
        "# here we are importing nltk,stopwords and porterstemmer we are using stemming on the text\n",
        "# we have and stopwords will help in removing the stopwords in the text\n",
        "\n",
        "#re is regular expressions used for identifying only words in the text and ignoring anything else\n",
        "import nltk\n",
        "import re\n",
        "from nltk.stem.porter import PorterStemmer\n",
        "from nltk.corpus import stopwords\n",
        "ps=PorterStemmer()"
      ]
    },
    {
      "cell_type": "markdown",
      "metadata": {
        "id": "wkjiHq0eDd7T"
      },
      "source": [
        "# Reading dataset"
      ]
    },
    {
      "cell_type": "code",
      "execution_count": null,
      "metadata": {
        "id": "chdv5-qLDd7U"
      },
      "outputs": [],
      "source": [
        "train_df=pd.read_csv('/content/drive/MyDrive/research/aireserchnlp/fakenews/try2/fakdata/train.csv')\n",
        "test_df=pd.read_csv('/content/drive/MyDrive/research/aireserchnlp/fakenews/try2/fakdata/test.csv')"
      ]
    },
    {
      "cell_type": "code",
      "execution_count": null,
      "metadata": {
        "colab": {
          "base_uri": "https://localhost:8080/",
          "height": 206
        },
        "id": "RbRqf1qRDd7V",
        "outputId": "3cc72563-56fc-4c4e-c060-4de195ece035"
      },
      "outputs": [
        {
          "output_type": "execute_result",
          "data": {
            "text/plain": [
              "   id                                              title              author  \\\n",
              "0   0  House Dem Aide: We Didn’t Even See Comey’s Let...       Darrell Lucus   \n",
              "1   1  FLYNN: Hillary Clinton, Big Woman on Campus - ...     Daniel J. Flynn   \n",
              "2   2                  Why the Truth Might Get You Fired  Consortiumnews.com   \n",
              "3   3  15 Civilians Killed In Single US Airstrike Hav...     Jessica Purkiss   \n",
              "4   4  Iranian woman jailed for fictional unpublished...      Howard Portnoy   \n",
              "\n",
              "                                                text  label  \n",
              "0  House Dem Aide: We Didn’t Even See Comey’s Let...      1  \n",
              "1  Ever get the feeling your life circles the rou...      0  \n",
              "2  Why the Truth Might Get You Fired October 29, ...      1  \n",
              "3  Videos 15 Civilians Killed In Single US Airstr...      1  \n",
              "4  Print \\nAn Iranian woman has been sentenced to...      1  "
            ],
            "text/html": [
              "\n",
              "  <div id=\"df-5a4d32a5-8377-4838-924e-b78518e09626\">\n",
              "    <div class=\"colab-df-container\">\n",
              "      <div>\n",
              "<style scoped>\n",
              "    .dataframe tbody tr th:only-of-type {\n",
              "        vertical-align: middle;\n",
              "    }\n",
              "\n",
              "    .dataframe tbody tr th {\n",
              "        vertical-align: top;\n",
              "    }\n",
              "\n",
              "    .dataframe thead th {\n",
              "        text-align: right;\n",
              "    }\n",
              "</style>\n",
              "<table border=\"1\" class=\"dataframe\">\n",
              "  <thead>\n",
              "    <tr style=\"text-align: right;\">\n",
              "      <th></th>\n",
              "      <th>id</th>\n",
              "      <th>title</th>\n",
              "      <th>author</th>\n",
              "      <th>text</th>\n",
              "      <th>label</th>\n",
              "    </tr>\n",
              "  </thead>\n",
              "  <tbody>\n",
              "    <tr>\n",
              "      <th>0</th>\n",
              "      <td>0</td>\n",
              "      <td>House Dem Aide: We Didn’t Even See Comey’s Let...</td>\n",
              "      <td>Darrell Lucus</td>\n",
              "      <td>House Dem Aide: We Didn’t Even See Comey’s Let...</td>\n",
              "      <td>1</td>\n",
              "    </tr>\n",
              "    <tr>\n",
              "      <th>1</th>\n",
              "      <td>1</td>\n",
              "      <td>FLYNN: Hillary Clinton, Big Woman on Campus - ...</td>\n",
              "      <td>Daniel J. Flynn</td>\n",
              "      <td>Ever get the feeling your life circles the rou...</td>\n",
              "      <td>0</td>\n",
              "    </tr>\n",
              "    <tr>\n",
              "      <th>2</th>\n",
              "      <td>2</td>\n",
              "      <td>Why the Truth Might Get You Fired</td>\n",
              "      <td>Consortiumnews.com</td>\n",
              "      <td>Why the Truth Might Get You Fired October 29, ...</td>\n",
              "      <td>1</td>\n",
              "    </tr>\n",
              "    <tr>\n",
              "      <th>3</th>\n",
              "      <td>3</td>\n",
              "      <td>15 Civilians Killed In Single US Airstrike Hav...</td>\n",
              "      <td>Jessica Purkiss</td>\n",
              "      <td>Videos 15 Civilians Killed In Single US Airstr...</td>\n",
              "      <td>1</td>\n",
              "    </tr>\n",
              "    <tr>\n",
              "      <th>4</th>\n",
              "      <td>4</td>\n",
              "      <td>Iranian woman jailed for fictional unpublished...</td>\n",
              "      <td>Howard Portnoy</td>\n",
              "      <td>Print \\nAn Iranian woman has been sentenced to...</td>\n",
              "      <td>1</td>\n",
              "    </tr>\n",
              "  </tbody>\n",
              "</table>\n",
              "</div>\n",
              "      <button class=\"colab-df-convert\" onclick=\"convertToInteractive('df-5a4d32a5-8377-4838-924e-b78518e09626')\"\n",
              "              title=\"Convert this dataframe to an interactive table.\"\n",
              "              style=\"display:none;\">\n",
              "        \n",
              "  <svg xmlns=\"http://www.w3.org/2000/svg\" height=\"24px\"viewBox=\"0 0 24 24\"\n",
              "       width=\"24px\">\n",
              "    <path d=\"M0 0h24v24H0V0z\" fill=\"none\"/>\n",
              "    <path d=\"M18.56 5.44l.94 2.06.94-2.06 2.06-.94-2.06-.94-.94-2.06-.94 2.06-2.06.94zm-11 1L8.5 8.5l.94-2.06 2.06-.94-2.06-.94L8.5 2.5l-.94 2.06-2.06.94zm10 10l.94 2.06.94-2.06 2.06-.94-2.06-.94-.94-2.06-.94 2.06-2.06.94z\"/><path d=\"M17.41 7.96l-1.37-1.37c-.4-.4-.92-.59-1.43-.59-.52 0-1.04.2-1.43.59L10.3 9.45l-7.72 7.72c-.78.78-.78 2.05 0 2.83L4 21.41c.39.39.9.59 1.41.59.51 0 1.02-.2 1.41-.59l7.78-7.78 2.81-2.81c.8-.78.8-2.07 0-2.86zM5.41 20L4 18.59l7.72-7.72 1.47 1.35L5.41 20z\"/>\n",
              "  </svg>\n",
              "      </button>\n",
              "      \n",
              "  <style>\n",
              "    .colab-df-container {\n",
              "      display:flex;\n",
              "      flex-wrap:wrap;\n",
              "      gap: 12px;\n",
              "    }\n",
              "\n",
              "    .colab-df-convert {\n",
              "      background-color: #E8F0FE;\n",
              "      border: none;\n",
              "      border-radius: 50%;\n",
              "      cursor: pointer;\n",
              "      display: none;\n",
              "      fill: #1967D2;\n",
              "      height: 32px;\n",
              "      padding: 0 0 0 0;\n",
              "      width: 32px;\n",
              "    }\n",
              "\n",
              "    .colab-df-convert:hover {\n",
              "      background-color: #E2EBFA;\n",
              "      box-shadow: 0px 1px 2px rgba(60, 64, 67, 0.3), 0px 1px 3px 1px rgba(60, 64, 67, 0.15);\n",
              "      fill: #174EA6;\n",
              "    }\n",
              "\n",
              "    [theme=dark] .colab-df-convert {\n",
              "      background-color: #3B4455;\n",
              "      fill: #D2E3FC;\n",
              "    }\n",
              "\n",
              "    [theme=dark] .colab-df-convert:hover {\n",
              "      background-color: #434B5C;\n",
              "      box-shadow: 0px 1px 3px 1px rgba(0, 0, 0, 0.15);\n",
              "      filter: drop-shadow(0px 1px 2px rgba(0, 0, 0, 0.3));\n",
              "      fill: #FFFFFF;\n",
              "    }\n",
              "  </style>\n",
              "\n",
              "      <script>\n",
              "        const buttonEl =\n",
              "          document.querySelector('#df-5a4d32a5-8377-4838-924e-b78518e09626 button.colab-df-convert');\n",
              "        buttonEl.style.display =\n",
              "          google.colab.kernel.accessAllowed ? 'block' : 'none';\n",
              "\n",
              "        async function convertToInteractive(key) {\n",
              "          const element = document.querySelector('#df-5a4d32a5-8377-4838-924e-b78518e09626');\n",
              "          const dataTable =\n",
              "            await google.colab.kernel.invokeFunction('convertToInteractive',\n",
              "                                                     [key], {});\n",
              "          if (!dataTable) return;\n",
              "\n",
              "          const docLinkHtml = 'Like what you see? Visit the ' +\n",
              "            '<a target=\"_blank\" href=https://colab.research.google.com/notebooks/data_table.ipynb>data table notebook</a>'\n",
              "            + ' to learn more about interactive tables.';\n",
              "          element.innerHTML = '';\n",
              "          dataTable['output_type'] = 'display_data';\n",
              "          await google.colab.output.renderOutput(dataTable, element);\n",
              "          const docLink = document.createElement('div');\n",
              "          docLink.innerHTML = docLinkHtml;\n",
              "          element.appendChild(docLink);\n",
              "        }\n",
              "      </script>\n",
              "    </div>\n",
              "  </div>\n",
              "  "
            ]
          },
          "metadata": {},
          "execution_count": 5
        }
      ],
      "source": [
        "# here we are printing first five lines of our train dataset\n",
        "train_df.head()"
      ]
    },
    {
      "cell_type": "markdown",
      "metadata": {
        "id": "hIk6TRdxDd7Y"
      },
      "source": [
        "# Data Pre-Processing"
      ]
    },
    {
      "cell_type": "markdown",
      "metadata": {
        "id": "KRIwG3TqE553"
      },
      "source": [
        "#preprocessing"
      ]
    },
    {
      "cell_type": "code",
      "execution_count": null,
      "metadata": {
        "id": "1QTOJNgfDd7a"
      },
      "outputs": [],
      "source": [
        "#filling nan values with space(' ')\n",
        "train_df.fillna(' ',inplace=True)"
      ]
    },
    {
      "cell_type": "code",
      "execution_count": null,
      "metadata": {
        "colab": {
          "base_uri": "https://localhost:8080/",
          "height": 268
        },
        "id": "zzDHLRLfDd7b",
        "outputId": "7c37188a-5e02-4422-9444-4f3f642fc9d4"
      },
      "outputs": [
        {
          "output_type": "execute_result",
          "data": {
            "text/plain": [
              "   id                                              title              author  \\\n",
              "0   0  House Dem Aide: We Didn’t Even See Comey’s Let...       Darrell Lucus   \n",
              "1   1  FLYNN: Hillary Clinton, Big Woman on Campus - ...     Daniel J. Flynn   \n",
              "2   2                  Why the Truth Might Get You Fired  Consortiumnews.com   \n",
              "3   3  15 Civilians Killed In Single US Airstrike Hav...     Jessica Purkiss   \n",
              "4   4  Iranian woman jailed for fictional unpublished...      Howard Portnoy   \n",
              "\n",
              "                                                text  label  \\\n",
              "0  House Dem Aide: We Didn’t Even See Comey’s Let...      1   \n",
              "1  Ever get the feeling your life circles the rou...      0   \n",
              "2  Why the Truth Might Get You Fired October 29, ...      1   \n",
              "3  Videos 15 Civilians Killed In Single US Airstr...      1   \n",
              "4  Print \\nAn Iranian woman has been sentenced to...      1   \n",
              "\n",
              "                                             summary  \n",
              "0  House Dem Aide: We Didn’t Even See Comey’s Let...  \n",
              "1  FLYNN: Hillary Clinton, Big Woman on Campus - ...  \n",
              "2  Why the Truth Might Get You Fired Consortiumne...  \n",
              "3  15 Civilians Killed In Single US Airstrike Hav...  \n",
              "4  Iranian woman jailed for fictional unpublished...  "
            ],
            "text/html": [
              "\n",
              "  <div id=\"df-0964735c-215a-4cf3-a0c7-ab52c2e17611\">\n",
              "    <div class=\"colab-df-container\">\n",
              "      <div>\n",
              "<style scoped>\n",
              "    .dataframe tbody tr th:only-of-type {\n",
              "        vertical-align: middle;\n",
              "    }\n",
              "\n",
              "    .dataframe tbody tr th {\n",
              "        vertical-align: top;\n",
              "    }\n",
              "\n",
              "    .dataframe thead th {\n",
              "        text-align: right;\n",
              "    }\n",
              "</style>\n",
              "<table border=\"1\" class=\"dataframe\">\n",
              "  <thead>\n",
              "    <tr style=\"text-align: right;\">\n",
              "      <th></th>\n",
              "      <th>id</th>\n",
              "      <th>title</th>\n",
              "      <th>author</th>\n",
              "      <th>text</th>\n",
              "      <th>label</th>\n",
              "      <th>summary</th>\n",
              "    </tr>\n",
              "  </thead>\n",
              "  <tbody>\n",
              "    <tr>\n",
              "      <th>0</th>\n",
              "      <td>0</td>\n",
              "      <td>House Dem Aide: We Didn’t Even See Comey’s Let...</td>\n",
              "      <td>Darrell Lucus</td>\n",
              "      <td>House Dem Aide: We Didn’t Even See Comey’s Let...</td>\n",
              "      <td>1</td>\n",
              "      <td>House Dem Aide: We Didn’t Even See Comey’s Let...</td>\n",
              "    </tr>\n",
              "    <tr>\n",
              "      <th>1</th>\n",
              "      <td>1</td>\n",
              "      <td>FLYNN: Hillary Clinton, Big Woman on Campus - ...</td>\n",
              "      <td>Daniel J. Flynn</td>\n",
              "      <td>Ever get the feeling your life circles the rou...</td>\n",
              "      <td>0</td>\n",
              "      <td>FLYNN: Hillary Clinton, Big Woman on Campus - ...</td>\n",
              "    </tr>\n",
              "    <tr>\n",
              "      <th>2</th>\n",
              "      <td>2</td>\n",
              "      <td>Why the Truth Might Get You Fired</td>\n",
              "      <td>Consortiumnews.com</td>\n",
              "      <td>Why the Truth Might Get You Fired October 29, ...</td>\n",
              "      <td>1</td>\n",
              "      <td>Why the Truth Might Get You Fired Consortiumne...</td>\n",
              "    </tr>\n",
              "    <tr>\n",
              "      <th>3</th>\n",
              "      <td>3</td>\n",
              "      <td>15 Civilians Killed In Single US Airstrike Hav...</td>\n",
              "      <td>Jessica Purkiss</td>\n",
              "      <td>Videos 15 Civilians Killed In Single US Airstr...</td>\n",
              "      <td>1</td>\n",
              "      <td>15 Civilians Killed In Single US Airstrike Hav...</td>\n",
              "    </tr>\n",
              "    <tr>\n",
              "      <th>4</th>\n",
              "      <td>4</td>\n",
              "      <td>Iranian woman jailed for fictional unpublished...</td>\n",
              "      <td>Howard Portnoy</td>\n",
              "      <td>Print \\nAn Iranian woman has been sentenced to...</td>\n",
              "      <td>1</td>\n",
              "      <td>Iranian woman jailed for fictional unpublished...</td>\n",
              "    </tr>\n",
              "  </tbody>\n",
              "</table>\n",
              "</div>\n",
              "      <button class=\"colab-df-convert\" onclick=\"convertToInteractive('df-0964735c-215a-4cf3-a0c7-ab52c2e17611')\"\n",
              "              title=\"Convert this dataframe to an interactive table.\"\n",
              "              style=\"display:none;\">\n",
              "        \n",
              "  <svg xmlns=\"http://www.w3.org/2000/svg\" height=\"24px\"viewBox=\"0 0 24 24\"\n",
              "       width=\"24px\">\n",
              "    <path d=\"M0 0h24v24H0V0z\" fill=\"none\"/>\n",
              "    <path d=\"M18.56 5.44l.94 2.06.94-2.06 2.06-.94-2.06-.94-.94-2.06-.94 2.06-2.06.94zm-11 1L8.5 8.5l.94-2.06 2.06-.94-2.06-.94L8.5 2.5l-.94 2.06-2.06.94zm10 10l.94 2.06.94-2.06 2.06-.94-2.06-.94-.94-2.06-.94 2.06-2.06.94z\"/><path d=\"M17.41 7.96l-1.37-1.37c-.4-.4-.92-.59-1.43-.59-.52 0-1.04.2-1.43.59L10.3 9.45l-7.72 7.72c-.78.78-.78 2.05 0 2.83L4 21.41c.39.39.9.59 1.41.59.51 0 1.02-.2 1.41-.59l7.78-7.78 2.81-2.81c.8-.78.8-2.07 0-2.86zM5.41 20L4 18.59l7.72-7.72 1.47 1.35L5.41 20z\"/>\n",
              "  </svg>\n",
              "      </button>\n",
              "      \n",
              "  <style>\n",
              "    .colab-df-container {\n",
              "      display:flex;\n",
              "      flex-wrap:wrap;\n",
              "      gap: 12px;\n",
              "    }\n",
              "\n",
              "    .colab-df-convert {\n",
              "      background-color: #E8F0FE;\n",
              "      border: none;\n",
              "      border-radius: 50%;\n",
              "      cursor: pointer;\n",
              "      display: none;\n",
              "      fill: #1967D2;\n",
              "      height: 32px;\n",
              "      padding: 0 0 0 0;\n",
              "      width: 32px;\n",
              "    }\n",
              "\n",
              "    .colab-df-convert:hover {\n",
              "      background-color: #E2EBFA;\n",
              "      box-shadow: 0px 1px 2px rgba(60, 64, 67, 0.3), 0px 1px 3px 1px rgba(60, 64, 67, 0.15);\n",
              "      fill: #174EA6;\n",
              "    }\n",
              "\n",
              "    [theme=dark] .colab-df-convert {\n",
              "      background-color: #3B4455;\n",
              "      fill: #D2E3FC;\n",
              "    }\n",
              "\n",
              "    [theme=dark] .colab-df-convert:hover {\n",
              "      background-color: #434B5C;\n",
              "      box-shadow: 0px 1px 3px 1px rgba(0, 0, 0, 0.15);\n",
              "      filter: drop-shadow(0px 1px 2px rgba(0, 0, 0, 0.3));\n",
              "      fill: #FFFFFF;\n",
              "    }\n",
              "  </style>\n",
              "\n",
              "      <script>\n",
              "        const buttonEl =\n",
              "          document.querySelector('#df-0964735c-215a-4cf3-a0c7-ab52c2e17611 button.colab-df-convert');\n",
              "        buttonEl.style.display =\n",
              "          google.colab.kernel.accessAllowed ? 'block' : 'none';\n",
              "\n",
              "        async function convertToInteractive(key) {\n",
              "          const element = document.querySelector('#df-0964735c-215a-4cf3-a0c7-ab52c2e17611');\n",
              "          const dataTable =\n",
              "            await google.colab.kernel.invokeFunction('convertToInteractive',\n",
              "                                                     [key], {});\n",
              "          if (!dataTable) return;\n",
              "\n",
              "          const docLinkHtml = 'Like what you see? Visit the ' +\n",
              "            '<a target=\"_blank\" href=https://colab.research.google.com/notebooks/data_table.ipynb>data table notebook</a>'\n",
              "            + ' to learn more about interactive tables.';\n",
              "          element.innerHTML = '';\n",
              "          dataTable['output_type'] = 'display_data';\n",
              "          await google.colab.output.renderOutput(dataTable, element);\n",
              "          const docLink = document.createElement('div');\n",
              "          docLink.innerHTML = docLinkHtml;\n",
              "          element.appendChild(docLink);\n",
              "        }\n",
              "      </script>\n",
              "    </div>\n",
              "  </div>\n",
              "  "
            ]
          },
          "metadata": {},
          "execution_count": 7
        }
      ],
      "source": [
        "#combining title and author,title and summary is formed\n",
        "train_df['summary']=train_df['title']+' '+train_df['author']+' '+train_df['text']\n",
        "train_df.head()"
      ]
    },
    {
      "cell_type": "code",
      "execution_count": null,
      "metadata": {
        "colab": {
          "base_uri": "https://localhost:8080/",
          "height": 140
        },
        "id": "MPkMzxdCDd7c",
        "outputId": "f0d6d0f0-53ca-49d2-d2fc-f19fe833b764"
      },
      "outputs": [
        {
          "output_type": "execute_result",
          "data": {
            "text/plain": [
              "'FLYNN: Hillary Clinton, Big Woman on Campus - Breitbart Daniel J. Flynn Ever get the feeling your life circles the roundabout rather than heads in a straight line toward the intended destination? [Hillary Clinton remains the big woman on campus in leafy, liberal Wellesley, Massachusetts. Everywhere else votes her most likely to don her inauguration dress for the remainder of her days the way Miss Havisham forever wore that wedding dress.  Speaking of Great Expectations, Hillary Rodham overflowed with them 48 years ago when she first addressed a Wellesley graduating class. The president of the college informed those gathered in 1969 that the students needed “no debate so far as I could ascertain as to who their spokesman was to be” (kind of the like the Democratic primaries in 2016 minus the   terms unknown then even at a Seven Sisters school). “I am very glad that Miss Adams made it clear that what I am speaking for today is all of us —  the 400 of us,” Miss Rodham told her classmates. After appointing herself Edger Bergen to the Charlie McCarthys and Mortimer Snerds in attendance, the    bespectacled in granny glasses (awarding her matronly wisdom —  or at least John Lennon wisdom) took issue with the previous speaker. Despite becoming the first   to win election to a seat in the U. S. Senate since Reconstruction, Edward Brooke came in for criticism for calling for “empathy” for the goals of protestors as he criticized tactics. Though Clinton in her senior thesis on Saul Alinsky lamented “Black Power demagogues” and “elitist arrogance and repressive intolerance” within the New Left, similar words coming out of a Republican necessitated a brief rebuttal. “Trust,” Rodham ironically observed in 1969, “this is one word that when I asked the class at our rehearsal what it was they wanted me to say for them, everyone came up to me and said ‘Talk about trust, talk about the lack of trust both for us and the way we feel about others. Talk about the trust bust.’ What can you say about it? What can you say about a feeling that permeates a generation and that perhaps is not even understood by those who are distrusted?” The “trust bust” certainly busted Clinton’s 2016 plans. She certainly did not even understand that people distrusted her. After Whitewater, Travelgate, the vast   conspiracy, Benghazi, and the missing emails, Clinton found herself the distrusted voice on Friday. There was a load of compromising on the road to the broadening of her political horizons. And distrust from the American people —  Trump edged her 48 percent to 38 percent on the question immediately prior to November’s election —  stood as a major reason for the closing of those horizons. Clinton described her vanquisher and his supporters as embracing a “lie,” a “con,” “alternative facts,” and “a   assault on truth and reason. ” She failed to explain why the American people chose his lies over her truth. “As the history majors among you here today know all too well, when people in power invent their own facts and attack those who question them, it can mark the beginning of the end of a free society,” she offered. “That is not hyperbole. ” Like so many people to emerge from the 1960s, Hillary Clinton embarked upon a long, strange trip. From high school Goldwater Girl and Wellesley College Republican president to Democratic politician, Clinton drank in the times and the place that gave her a degree. More significantly, she went from idealist to cynic, as a comparison of her two Wellesley commencement addresses show. Way back when, she lamented that “for too long our leaders have viewed politics as the art of the possible, and the challenge now is to practice politics as the art of making what appears to be impossible possible. ” Now, as the big woman on campus but the odd woman out of the White House, she wonders how her current station is even possible. “Why aren’t I 50 points ahead?” she asked in September. In May she asks why she isn’t president. The woman famously dubbed a “congenital liar” by Bill Safire concludes that lies did her in —  theirs, mind you, not hers. Getting stood up on Election Day, like finding yourself the jilted bride on your wedding day, inspires dangerous delusions.'"
            ],
            "application/vnd.google.colaboratory.intrinsic+json": {
              "type": "string"
            }
          },
          "metadata": {},
          "execution_count": 8
        }
      ],
      "source": [
        "train_df['summary'][1]"
      ]
    },
    {
      "cell_type": "code",
      "execution_count": null,
      "metadata": {
        "colab": {
          "base_uri": "https://localhost:8080/"
        },
        "id": "XODFRwRdDd7d",
        "outputId": "db8df10d-3075-4fc2-b886-e7f6f850ca93"
      },
      "outputs": [
        {
          "output_type": "execute_result",
          "data": {
            "text/plain": [
              "id         0\n",
              "title      0\n",
              "author     0\n",
              "text       0\n",
              "label      0\n",
              "summary    0\n",
              "dtype: int64"
            ]
          },
          "metadata": {},
          "execution_count": 9
        }
      ],
      "source": [
        "train_df.isnull().sum()"
      ]
    },
    {
      "cell_type": "code",
      "execution_count": null,
      "metadata": {
        "colab": {
          "base_uri": "https://localhost:8080/"
        },
        "id": "UXDAaJQMDd7e",
        "outputId": "45daf74c-9afe-41ac-8f4c-897614ed7415"
      },
      "outputs": [
        {
          "output_type": "execute_result",
          "data": {
            "text/plain": [
              "0        False\n",
              "1        False\n",
              "2        False\n",
              "3        False\n",
              "4        False\n",
              "         ...  \n",
              "20795    False\n",
              "20796    False\n",
              "20797    False\n",
              "20798    False\n",
              "20799    False\n",
              "Name: summary, Length: 20800, dtype: bool"
            ]
          },
          "metadata": {},
          "execution_count": 10
        }
      ],
      "source": [
        "train_df['summary']==' '"
      ]
    },
    {
      "cell_type": "markdown",
      "metadata": {
        "id": "nCv5UEkuDd7f"
      },
      "source": [
        "**Removel of stop words and Stemming the words**"
      ]
    },
    {
      "cell_type": "code",
      "execution_count": null,
      "metadata": {
        "id": "BGICbD09Dd7g"
      },
      "outputs": [],
      "source": [
        "x=train_df['summary']\n",
        "y=train_df['label']"
      ]
    },
    {
      "cell_type": "code",
      "execution_count": null,
      "metadata": {
        "colab": {
          "base_uri": "https://localhost:8080/"
        },
        "id": "ZKaNXV-ADd7h",
        "outputId": "b97257e1-1726-4fa9-c9e4-fec9f673fc21"
      },
      "outputs": [
        {
          "output_type": "execute_result",
          "data": {
            "text/plain": [
              "0    House Dem Aide: We Didn’t Even See Comey’s Let...\n",
              "1    FLYNN: Hillary Clinton, Big Woman on Campus - ...\n",
              "2    Why the Truth Might Get You Fired Consortiumne...\n",
              "3    15 Civilians Killed In Single US Airstrike Hav...\n",
              "4    Iranian woman jailed for fictional unpublished...\n",
              "Name: summary, dtype: object"
            ]
          },
          "metadata": {},
          "execution_count": 13
        }
      ],
      "source": [
        "x.head()"
      ]
    },
    {
      "cell_type": "code",
      "execution_count": null,
      "metadata": {
        "id": "92xyZAi9Dd7h",
        "colab": {
          "base_uri": "https://localhost:8080/",
          "height": 140
        },
        "outputId": "88df3e54-8917-4e8f-d63f-d79b4a02e099"
      },
      "outputs": [
        {
          "output_type": "execute_result",
          "data": {
            "text/plain": [
              "'FLYNN: Hillary Clinton, Big Woman on Campus - Breitbart Daniel J. Flynn Ever get the feeling your life circles the roundabout rather than heads in a straight line toward the intended destination? [Hillary Clinton remains the big woman on campus in leafy, liberal Wellesley, Massachusetts. Everywhere else votes her most likely to don her inauguration dress for the remainder of her days the way Miss Havisham forever wore that wedding dress.  Speaking of Great Expectations, Hillary Rodham overflowed with them 48 years ago when she first addressed a Wellesley graduating class. The president of the college informed those gathered in 1969 that the students needed “no debate so far as I could ascertain as to who their spokesman was to be” (kind of the like the Democratic primaries in 2016 minus the   terms unknown then even at a Seven Sisters school). “I am very glad that Miss Adams made it clear that what I am speaking for today is all of us —  the 400 of us,” Miss Rodham told her classmates. After appointing herself Edger Bergen to the Charlie McCarthys and Mortimer Snerds in attendance, the    bespectacled in granny glasses (awarding her matronly wisdom —  or at least John Lennon wisdom) took issue with the previous speaker. Despite becoming the first   to win election to a seat in the U. S. Senate since Reconstruction, Edward Brooke came in for criticism for calling for “empathy” for the goals of protestors as he criticized tactics. Though Clinton in her senior thesis on Saul Alinsky lamented “Black Power demagogues” and “elitist arrogance and repressive intolerance” within the New Left, similar words coming out of a Republican necessitated a brief rebuttal. “Trust,” Rodham ironically observed in 1969, “this is one word that when I asked the class at our rehearsal what it was they wanted me to say for them, everyone came up to me and said ‘Talk about trust, talk about the lack of trust both for us and the way we feel about others. Talk about the trust bust.’ What can you say about it? What can you say about a feeling that permeates a generation and that perhaps is not even understood by those who are distrusted?” The “trust bust” certainly busted Clinton’s 2016 plans. She certainly did not even understand that people distrusted her. After Whitewater, Travelgate, the vast   conspiracy, Benghazi, and the missing emails, Clinton found herself the distrusted voice on Friday. There was a load of compromising on the road to the broadening of her political horizons. And distrust from the American people —  Trump edged her 48 percent to 38 percent on the question immediately prior to November’s election —  stood as a major reason for the closing of those horizons. Clinton described her vanquisher and his supporters as embracing a “lie,” a “con,” “alternative facts,” and “a   assault on truth and reason. ” She failed to explain why the American people chose his lies over her truth. “As the history majors among you here today know all too well, when people in power invent their own facts and attack those who question them, it can mark the beginning of the end of a free society,” she offered. “That is not hyperbole. ” Like so many people to emerge from the 1960s, Hillary Clinton embarked upon a long, strange trip. From high school Goldwater Girl and Wellesley College Republican president to Democratic politician, Clinton drank in the times and the place that gave her a degree. More significantly, she went from idealist to cynic, as a comparison of her two Wellesley commencement addresses show. Way back when, she lamented that “for too long our leaders have viewed politics as the art of the possible, and the challenge now is to practice politics as the art of making what appears to be impossible possible. ” Now, as the big woman on campus but the odd woman out of the White House, she wonders how her current station is even possible. “Why aren’t I 50 points ahead?” she asked in September. In May she asks why she isn’t president. The woman famously dubbed a “congenital liar” by Bill Safire concludes that lies did her in —  theirs, mind you, not hers. Getting stood up on Election Day, like finding yourself the jilted bride on your wedding day, inspires dangerous delusions.'"
            ],
            "application/vnd.google.colaboratory.intrinsic+json": {
              "type": "string"
            }
          },
          "metadata": {},
          "execution_count": 14
        }
      ],
      "source": [
        "x[1]"
      ]
    },
    {
      "cell_type": "code",
      "execution_count": null,
      "metadata": {
        "colab": {
          "base_uri": "https://localhost:8080/"
        },
        "id": "2GpHPOi1EuQJ",
        "outputId": "36610933-5508-4fa1-8fa4-f509be0ff249"
      },
      "outputs": [
        {
          "output_type": "stream",
          "name": "stderr",
          "text": [
            "[nltk_data] Downloading package stopwords to /root/nltk_data...\n",
            "[nltk_data]   Unzipping corpora/stopwords.zip.\n"
          ]
        },
        {
          "output_type": "execute_result",
          "data": {
            "text/plain": [
              "True"
            ]
          },
          "metadata": {},
          "execution_count": 15
        }
      ],
      "source": [
        "import nltk\n",
        "nltk.download('stopwords')"
      ]
    },
    {
      "cell_type": "code",
      "execution_count": null,
      "metadata": {
        "id": "trb-9zE9Dd7i"
      },
      "outputs": [],
      "source": [
        "# here we are creating corpus for the test dataset exactly the same as we created for the\n",
        "# training dataset\n",
        "corpus=[]\n",
        "for i in range(0,len(train_df)):\n",
        "    review=re.sub('[^a-zA-Z]',' ',x[i])\n",
        "    review=review.lower()\n",
        "    review=review.split()\n",
        "    review=[ps.stem(word) for word in review if not word in stopwords.words('english')]\n",
        "    review=' '.join(review)\n",
        "    corpus.append(review)"
      ]
    },
    {
      "cell_type": "code",
      "execution_count": null,
      "metadata": {
        "colab": {
          "base_uri": "https://localhost:8080/",
          "height": 140
        },
        "id": "sQ71psKYDd7j",
        "outputId": "29f2d2bd-3269-4be3-d24d-e2ee8f9fcd37"
      },
      "outputs": [
        {
          "output_type": "execute_result",
          "data": {
            "text/plain": [
              "'flynn hillari clinton big woman campu breitbart daniel j flynn ever get feel life circl roundabout rather head straight line toward intend destin hillari clinton remain big woman campu leafi liber wellesley massachusett everywher els vote like inaugur dress remaind day way miss havisham forev wore wed dress speak great expect hillari rodham overflow year ago first address wellesley graduat class presid colleg inform gather student need debat far could ascertain spokesman kind like democrat primari minu term unknown even seven sister school glad miss adam made clear speak today us us miss rodham told classmat appoint edger bergen charli mccarthi mortim snerd attend bespectacl granni glass award matronli wisdom least john lennon wisdom took issu previou speaker despit becom first win elect seat u senat sinc reconstruct edward brook came critic call empathi goal protestor critic tactic though clinton senior thesi saul alinski lament black power demagogu elitist arrog repress intoler within new left similar word come republican necessit brief rebutt trust rodham iron observ one word ask class rehears want say everyon came said talk trust talk lack trust us way feel other talk trust bust say say feel permeat gener perhap even understood distrust trust bust certainli bust clinton plan certainli even understand peopl distrust whitewat travelg vast conspiraci benghazi miss email clinton found distrust voic friday load compromis road broaden polit horizon distrust american peopl trump edg percent percent question immedi prior novemb elect stood major reason close horizon clinton describ vanquish support embrac lie con altern fact assault truth reason fail explain american peopl chose lie truth histori major among today know well peopl power invent fact attack question mark begin end free societi offer hyperbol like mani peopl emerg hillari clinton embark upon long strang trip high school goldwat girl wellesley colleg republican presid democrat politician clinton drank time place gave degre significantli went idealist cynic comparison two wellesley commenc address show way back lament long leader view polit art possibl challeng practic polit art make appear imposs possibl big woman campu odd woman white hous wonder current station even possibl point ahead ask septemb may ask presid woman famous dub congenit liar bill safir conclud lie mind get stood elect day like find jilt bride wed day inspir danger delus'"
            ],
            "application/vnd.google.colaboratory.intrinsic+json": {
              "type": "string"
            }
          },
          "metadata": {},
          "execution_count": 17
        }
      ],
      "source": [
        "corpus[1]"
      ]
    },
    {
      "cell_type": "markdown",
      "metadata": {
        "id": "PcoL4JkLDd7j"
      },
      "source": [
        "**Word Embedding — One hot encoding**\n",
        "\n",
        "The machine cannot understand words and therefore it needs numerical values so as to make it easier for the machine to process the data. To apply any type of algorithm to the data, we need to convert the categorical data to numbers. To achieve this, one hot ending is one way as it converts categorical variables to binary vectors."
      ]
    },
    {
      "cell_type": "code",
      "execution_count": null,
      "metadata": {
        "id": "ojyR__LUDd7k"
      },
      "outputs": [],
      "source": [
        "#vocabulary size\n",
        "voc_size=10000"
      ]
    },
    {
      "cell_type": "code",
      "execution_count": null,
      "metadata": {
        "colab": {
          "base_uri": "https://localhost:8080/"
        },
        "id": "9FfHx1B9Dd7l",
        "outputId": "449747bd-df57-43ba-d9f9-be4627d95eb1",
        "scrolled": true
      },
      "outputs": [
        {
          "output_type": "execute_result",
          "data": {
            "text/plain": [
              "[5424,\n",
              " 7086,\n",
              " 7619,\n",
              " 7998,\n",
              " 510,\n",
              " 92,\n",
              " 7674,\n",
              " 3856,\n",
              " 7965,\n",
              " 5424,\n",
              " 925,\n",
              " 3294,\n",
              " 6413,\n",
              " 7877,\n",
              " 2929,\n",
              " 4830,\n",
              " 6963,\n",
              " 7886,\n",
              " 5338,\n",
              " 1110,\n",
              " 6139,\n",
              " 4592,\n",
              " 7808,\n",
              " 7086,\n",
              " 7619,\n",
              " 2971,\n",
              " 7998,\n",
              " 510,\n",
              " 92,\n",
              " 8049,\n",
              " 3582,\n",
              " 7849,\n",
              " 7906,\n",
              " 8213,\n",
              " 8050,\n",
              " 130,\n",
              " 6618,\n",
              " 2037,\n",
              " 8637,\n",
              " 7759,\n",
              " 5701,\n",
              " 3599,\n",
              " 8607,\n",
              " 5043,\n",
              " 617,\n",
              " 9242,\n",
              " 341,\n",
              " 8637,\n",
              " 9601,\n",
              " 2836,\n",
              " 9506,\n",
              " 7086,\n",
              " 3937,\n",
              " 2482,\n",
              " 9280,\n",
              " 631,\n",
              " 4194,\n",
              " 8764,\n",
              " 7849,\n",
              " 4411,\n",
              " 5267,\n",
              " 2985,\n",
              " 8092,\n",
              " 2175,\n",
              " 1706,\n",
              " 9095,\n",
              " 5184,\n",
              " 2929,\n",
              " 7254,\n",
              " 980,\n",
              " 7976,\n",
              " 2838,\n",
              " 4564,\n",
              " 6618,\n",
              " 6290,\n",
              " 8630,\n",
              " 3281,\n",
              " 5402,\n",
              " 8423,\n",
              " 4248,\n",
              " 7902,\n",
              " 9015,\n",
              " 7686,\n",
              " 2164,\n",
              " 8607,\n",
              " 9726,\n",
              " 9200,\n",
              " 6447,\n",
              " 9601,\n",
              " 8311,\n",
              " 5794,\n",
              " 5794,\n",
              " 8607,\n",
              " 3937,\n",
              " 317,\n",
              " 3005,\n",
              " 7475,\n",
              " 4421,\n",
              " 7514,\n",
              " 8345,\n",
              " 8702,\n",
              " 1093,\n",
              " 4442,\n",
              " 2427,\n",
              " 4677,\n",
              " 2125,\n",
              " 5778,\n",
              " 5832,\n",
              " 1251,\n",
              " 4179,\n",
              " 572,\n",
              " 8892,\n",
              " 8670,\n",
              " 4179,\n",
              " 3173,\n",
              " 6686,\n",
              " 2449,\n",
              " 8394,\n",
              " 6253,\n",
              " 9847,\n",
              " 4194,\n",
              " 4514,\n",
              " 5644,\n",
              " 2248,\n",
              " 8865,\n",
              " 3610,\n",
              " 2531,\n",
              " 7710,\n",
              " 6651,\n",
              " 678,\n",
              " 3981,\n",
              " 9679,\n",
              " 9260,\n",
              " 1014,\n",
              " 1119,\n",
              " 3844,\n",
              " 9679,\n",
              " 4393,\n",
              " 1010,\n",
              " 7619,\n",
              " 4768,\n",
              " 7014,\n",
              " 1204,\n",
              " 5136,\n",
              " 6819,\n",
              " 8094,\n",
              " 9246,\n",
              " 9980,\n",
              " 6859,\n",
              " 6266,\n",
              " 33,\n",
              " 1,\n",
              " 4397,\n",
              " 7631,\n",
              " 3525,\n",
              " 941,\n",
              " 3111,\n",
              " 5885,\n",
              " 4490,\n",
              " 5635,\n",
              " 3217,\n",
              " 7522,\n",
              " 9760,\n",
              " 3937,\n",
              " 4051,\n",
              " 4468,\n",
              " 3151,\n",
              " 3111,\n",
              " 657,\n",
              " 5267,\n",
              " 5196,\n",
              " 8972,\n",
              " 102,\n",
              " 2283,\n",
              " 3981,\n",
              " 7279,\n",
              " 4627,\n",
              " 9760,\n",
              " 4627,\n",
              " 7119,\n",
              " 9760,\n",
              " 5794,\n",
              " 3599,\n",
              " 6413,\n",
              " 7450,\n",
              " 4627,\n",
              " 9760,\n",
              " 3139,\n",
              " 102,\n",
              " 102,\n",
              " 6413,\n",
              " 3149,\n",
              " 991,\n",
              " 9154,\n",
              " 4248,\n",
              " 4170,\n",
              " 6659,\n",
              " 9760,\n",
              " 3139,\n",
              " 6785,\n",
              " 3139,\n",
              " 7619,\n",
              " 2993,\n",
              " 6785,\n",
              " 4248,\n",
              " 9803,\n",
              " 8779,\n",
              " 6659,\n",
              " 30,\n",
              " 7390,\n",
              " 9364,\n",
              " 1198,\n",
              " 8733,\n",
              " 8607,\n",
              " 7308,\n",
              " 7619,\n",
              " 1550,\n",
              " 6659,\n",
              " 8131,\n",
              " 315,\n",
              " 5187,\n",
              " 6216,\n",
              " 7104,\n",
              " 5240,\n",
              " 4113,\n",
              " 9782,\n",
              " 6659,\n",
              " 6100,\n",
              " 8779,\n",
              " 695,\n",
              " 4645,\n",
              " 9630,\n",
              " 9630,\n",
              " 6370,\n",
              " 9540,\n",
              " 8938,\n",
              " 8155,\n",
              " 5644,\n",
              " 8549,\n",
              " 1235,\n",
              " 8912,\n",
              " 1627,\n",
              " 9782,\n",
              " 7619,\n",
              " 6417,\n",
              " 2093,\n",
              " 8702,\n",
              " 7543,\n",
              " 4856,\n",
              " 8226,\n",
              " 3807,\n",
              " 5321,\n",
              " 3982,\n",
              " 7854,\n",
              " 8912,\n",
              " 4905,\n",
              " 9366,\n",
              " 6100,\n",
              " 8779,\n",
              " 839,\n",
              " 4856,\n",
              " 7854,\n",
              " 629,\n",
              " 1235,\n",
              " 5165,\n",
              " 8311,\n",
              " 4776,\n",
              " 5406,\n",
              " 8779,\n",
              " 9246,\n",
              " 2096,\n",
              " 5321,\n",
              " 4305,\n",
              " 6370,\n",
              " 6226,\n",
              " 5378,\n",
              " 1798,\n",
              " 2684,\n",
              " 8903,\n",
              " 8325,\n",
              " 2767,\n",
              " 6618,\n",
              " 9894,\n",
              " 8779,\n",
              " 1796,\n",
              " 7086,\n",
              " 7619,\n",
              " 6988,\n",
              " 1202,\n",
              " 1303,\n",
              " 9914,\n",
              " 2904,\n",
              " 3618,\n",
              " 7686,\n",
              " 6065,\n",
              " 4672,\n",
              " 7849,\n",
              " 8092,\n",
              " 4490,\n",
              " 2985,\n",
              " 6290,\n",
              " 6977,\n",
              " 7619,\n",
              " 8924,\n",
              " 6157,\n",
              " 9259,\n",
              " 6364,\n",
              " 3694,\n",
              " 770,\n",
              " 1915,\n",
              " 1394,\n",
              " 4850,\n",
              " 5138,\n",
              " 6479,\n",
              " 7849,\n",
              " 4770,\n",
              " 8764,\n",
              " 1563,\n",
              " 3599,\n",
              " 2292,\n",
              " 6819,\n",
              " 1303,\n",
              " 163,\n",
              " 7069,\n",
              " 4113,\n",
              " 7736,\n",
              " 5679,\n",
              " 2449,\n",
              " 9014,\n",
              " 4113,\n",
              " 7736,\n",
              " 2240,\n",
              " 9158,\n",
              " 2459,\n",
              " 5679,\n",
              " 7998,\n",
              " 510,\n",
              " 92,\n",
              " 9342,\n",
              " 510,\n",
              " 4084,\n",
              " 6336,\n",
              " 1577,\n",
              " 3878,\n",
              " 1516,\n",
              " 4248,\n",
              " 5679,\n",
              " 6542,\n",
              " 257,\n",
              " 657,\n",
              " 6614,\n",
              " 1907,\n",
              " 657,\n",
              " 2985,\n",
              " 510,\n",
              " 6360,\n",
              " 1531,\n",
              " 9535,\n",
              " 843,\n",
              " 2796,\n",
              " 1572,\n",
              " 5646,\n",
              " 4856,\n",
              " 1999,\n",
              " 3294,\n",
              " 8549,\n",
              " 5644,\n",
              " 5701,\n",
              " 6618,\n",
              " 8443,\n",
              " 6812,\n",
              " 2155,\n",
              " 341,\n",
              " 5701,\n",
              " 8184,\n",
              " 9479,\n",
              " 7101]"
            ]
          },
          "metadata": {},
          "execution_count": 19
        }
      ],
      "source": [
        "# TensorFlow has an operation for one-hot encoding\n",
        "one_hot_reps1=[one_hot(word,voc_size) for word in corpus]\n",
        "one_hot_reps1[1]"
      ]
    },
    {
      "cell_type": "markdown",
      "metadata": {
        "id": "iOc7f_GADd7m"
      },
      "source": [
        "**Word Embedding**"
      ]
    },
    {
      "cell_type": "code",
      "execution_count": null,
      "metadata": {
        "colab": {
          "base_uri": "https://localhost:8080/"
        },
        "id": "C0GnTAq-Dd7m",
        "outputId": "39ee06c7-fd50-4fbf-a8e4-e281659ef701"
      },
      "outputs": [
        {
          "output_type": "execute_result",
          "data": {
            "text/plain": [
              "array([[   0,    0,    0, ..., 1938, 5406, 3268],\n",
              "       [   0,    0,    0, ..., 8184, 9479, 7101],\n",
              "       [ 393, 3647, 6194, ..., 2687, 7126, 3784],\n",
              "       ...,\n",
              "       [   0,    0,    0, ...,  851, 1154, 8995],\n",
              "       [   0,    0,    0, ..., 2633, 7051,  167],\n",
              "       [9280, 8727, 9330, ..., 7913, 6339, 2109]], dtype=int32)"
            ]
          },
          "metadata": {},
          "execution_count": 20
        }
      ],
      "source": [
        "# here we are specifying a sentence length so that every sentence in the corpus will be of same length\n",
        "sent_length=500\n",
        "#making all the sentence as equall size vector\n",
        "#two types of padding pre and post\n",
        "embedded_docs1=pad_sequences(one_hot_reps1,padding='pre',maxlen=sent_length)\n",
        "embedded_docs1"
      ]
    },
    {
      "cell_type": "code",
      "execution_count": null,
      "metadata": {
        "id": "LGY36J3TDd7n"
      },
      "outputs": [],
      "source": [
        "x=np.array(embedded_docs1)\n",
        "y=np.array(y)"
      ]
    },
    {
      "cell_type": "code",
      "execution_count": null,
      "metadata": {
        "colab": {
          "base_uri": "https://localhost:8080/"
        },
        "id": "FWrvHh6-Dd7n",
        "outputId": "24891330-ae80-4e4a-d8b7-fe5347fe77c1"
      },
      "outputs": [
        {
          "output_type": "execute_result",
          "data": {
            "text/plain": [
              "array([[   0,    0,    0, ..., 1938, 5406, 3268],\n",
              "       [   0,    0,    0, ..., 8184, 9479, 7101],\n",
              "       [ 393, 3647, 6194, ..., 2687, 7126, 3784],\n",
              "       ...,\n",
              "       [   0,    0,    0, ...,  851, 1154, 8995],\n",
              "       [   0,    0,    0, ..., 2633, 7051,  167],\n",
              "       [9280, 8727, 9330, ..., 7913, 6339, 2109]], dtype=int32)"
            ]
          },
          "metadata": {},
          "execution_count": 22
        }
      ],
      "source": [
        "x"
      ]
    },
    {
      "cell_type": "markdown",
      "source": [
        ",,,,,,,,,,,,,,,,,,,,,,,,,,,,,,,,,,,,,,,,,,,,,,,,,,,,,,,,,,,,,,,,,,,,,,,,,,,,,,,,"
      ],
      "metadata": {
        "id": "dPCIqNHmG-aN"
      }
    },
    {
      "cell_type": "markdown",
      "metadata": {
        "id": "mf-0l1GEDd7o"
      },
      "source": [
        "# Data Pre-Processing for testing data"
      ]
    },
    {
      "cell_type": "code",
      "execution_count": null,
      "metadata": {
        "colab": {
          "base_uri": "https://localhost:8080/",
          "height": 206
        },
        "id": "BksqrSlRDd7o",
        "outputId": "74904d17-e5a8-422c-dad2-91dc6d4536d9"
      },
      "outputs": [
        {
          "output_type": "execute_result",
          "data": {
            "text/plain": [
              "      id                                              title  \\\n",
              "0  20800  Specter of Trump Loosens Tongues, if Not Purse...   \n",
              "1  20801  Russian warships ready to strike terrorists ne...   \n",
              "2  20802  #NoDAPL: Native American Leaders Vow to Stay A...   \n",
              "3  20803  Tim Tebow Will Attempt Another Comeback, This ...   \n",
              "4  20804                    Keiser Report: Meme Wars (E995)   \n",
              "\n",
              "                    author                                               text  \n",
              "0         David Streitfeld  PALO ALTO, Calif.  —   After years of scorning...  \n",
              "1                      NaN  Russian warships ready to strike terrorists ne...  \n",
              "2            Common Dreams  Videos #NoDAPL: Native American Leaders Vow to...  \n",
              "3            Daniel Victor  If at first you don’t succeed, try a different...  \n",
              "4  Truth Broadcast Network  42 mins ago 1 Views 0 Comments 0 Likes 'For th...  "
            ],
            "text/html": [
              "\n",
              "  <div id=\"df-83c94374-3954-475c-b46d-55704f861577\">\n",
              "    <div class=\"colab-df-container\">\n",
              "      <div>\n",
              "<style scoped>\n",
              "    .dataframe tbody tr th:only-of-type {\n",
              "        vertical-align: middle;\n",
              "    }\n",
              "\n",
              "    .dataframe tbody tr th {\n",
              "        vertical-align: top;\n",
              "    }\n",
              "\n",
              "    .dataframe thead th {\n",
              "        text-align: right;\n",
              "    }\n",
              "</style>\n",
              "<table border=\"1\" class=\"dataframe\">\n",
              "  <thead>\n",
              "    <tr style=\"text-align: right;\">\n",
              "      <th></th>\n",
              "      <th>id</th>\n",
              "      <th>title</th>\n",
              "      <th>author</th>\n",
              "      <th>text</th>\n",
              "    </tr>\n",
              "  </thead>\n",
              "  <tbody>\n",
              "    <tr>\n",
              "      <th>0</th>\n",
              "      <td>20800</td>\n",
              "      <td>Specter of Trump Loosens Tongues, if Not Purse...</td>\n",
              "      <td>David Streitfeld</td>\n",
              "      <td>PALO ALTO, Calif.  —   After years of scorning...</td>\n",
              "    </tr>\n",
              "    <tr>\n",
              "      <th>1</th>\n",
              "      <td>20801</td>\n",
              "      <td>Russian warships ready to strike terrorists ne...</td>\n",
              "      <td>NaN</td>\n",
              "      <td>Russian warships ready to strike terrorists ne...</td>\n",
              "    </tr>\n",
              "    <tr>\n",
              "      <th>2</th>\n",
              "      <td>20802</td>\n",
              "      <td>#NoDAPL: Native American Leaders Vow to Stay A...</td>\n",
              "      <td>Common Dreams</td>\n",
              "      <td>Videos #NoDAPL: Native American Leaders Vow to...</td>\n",
              "    </tr>\n",
              "    <tr>\n",
              "      <th>3</th>\n",
              "      <td>20803</td>\n",
              "      <td>Tim Tebow Will Attempt Another Comeback, This ...</td>\n",
              "      <td>Daniel Victor</td>\n",
              "      <td>If at first you don’t succeed, try a different...</td>\n",
              "    </tr>\n",
              "    <tr>\n",
              "      <th>4</th>\n",
              "      <td>20804</td>\n",
              "      <td>Keiser Report: Meme Wars (E995)</td>\n",
              "      <td>Truth Broadcast Network</td>\n",
              "      <td>42 mins ago 1 Views 0 Comments 0 Likes 'For th...</td>\n",
              "    </tr>\n",
              "  </tbody>\n",
              "</table>\n",
              "</div>\n",
              "      <button class=\"colab-df-convert\" onclick=\"convertToInteractive('df-83c94374-3954-475c-b46d-55704f861577')\"\n",
              "              title=\"Convert this dataframe to an interactive table.\"\n",
              "              style=\"display:none;\">\n",
              "        \n",
              "  <svg xmlns=\"http://www.w3.org/2000/svg\" height=\"24px\"viewBox=\"0 0 24 24\"\n",
              "       width=\"24px\">\n",
              "    <path d=\"M0 0h24v24H0V0z\" fill=\"none\"/>\n",
              "    <path d=\"M18.56 5.44l.94 2.06.94-2.06 2.06-.94-2.06-.94-.94-2.06-.94 2.06-2.06.94zm-11 1L8.5 8.5l.94-2.06 2.06-.94-2.06-.94L8.5 2.5l-.94 2.06-2.06.94zm10 10l.94 2.06.94-2.06 2.06-.94-2.06-.94-.94-2.06-.94 2.06-2.06.94z\"/><path d=\"M17.41 7.96l-1.37-1.37c-.4-.4-.92-.59-1.43-.59-.52 0-1.04.2-1.43.59L10.3 9.45l-7.72 7.72c-.78.78-.78 2.05 0 2.83L4 21.41c.39.39.9.59 1.41.59.51 0 1.02-.2 1.41-.59l7.78-7.78 2.81-2.81c.8-.78.8-2.07 0-2.86zM5.41 20L4 18.59l7.72-7.72 1.47 1.35L5.41 20z\"/>\n",
              "  </svg>\n",
              "      </button>\n",
              "      \n",
              "  <style>\n",
              "    .colab-df-container {\n",
              "      display:flex;\n",
              "      flex-wrap:wrap;\n",
              "      gap: 12px;\n",
              "    }\n",
              "\n",
              "    .colab-df-convert {\n",
              "      background-color: #E8F0FE;\n",
              "      border: none;\n",
              "      border-radius: 50%;\n",
              "      cursor: pointer;\n",
              "      display: none;\n",
              "      fill: #1967D2;\n",
              "      height: 32px;\n",
              "      padding: 0 0 0 0;\n",
              "      width: 32px;\n",
              "    }\n",
              "\n",
              "    .colab-df-convert:hover {\n",
              "      background-color: #E2EBFA;\n",
              "      box-shadow: 0px 1px 2px rgba(60, 64, 67, 0.3), 0px 1px 3px 1px rgba(60, 64, 67, 0.15);\n",
              "      fill: #174EA6;\n",
              "    }\n",
              "\n",
              "    [theme=dark] .colab-df-convert {\n",
              "      background-color: #3B4455;\n",
              "      fill: #D2E3FC;\n",
              "    }\n",
              "\n",
              "    [theme=dark] .colab-df-convert:hover {\n",
              "      background-color: #434B5C;\n",
              "      box-shadow: 0px 1px 3px 1px rgba(0, 0, 0, 0.15);\n",
              "      filter: drop-shadow(0px 1px 2px rgba(0, 0, 0, 0.3));\n",
              "      fill: #FFFFFF;\n",
              "    }\n",
              "  </style>\n",
              "\n",
              "      <script>\n",
              "        const buttonEl =\n",
              "          document.querySelector('#df-83c94374-3954-475c-b46d-55704f861577 button.colab-df-convert');\n",
              "        buttonEl.style.display =\n",
              "          google.colab.kernel.accessAllowed ? 'block' : 'none';\n",
              "\n",
              "        async function convertToInteractive(key) {\n",
              "          const element = document.querySelector('#df-83c94374-3954-475c-b46d-55704f861577');\n",
              "          const dataTable =\n",
              "            await google.colab.kernel.invokeFunction('convertToInteractive',\n",
              "                                                     [key], {});\n",
              "          if (!dataTable) return;\n",
              "\n",
              "          const docLinkHtml = 'Like what you see? Visit the ' +\n",
              "            '<a target=\"_blank\" href=https://colab.research.google.com/notebooks/data_table.ipynb>data table notebook</a>'\n",
              "            + ' to learn more about interactive tables.';\n",
              "          element.innerHTML = '';\n",
              "          dataTable['output_type'] = 'display_data';\n",
              "          await google.colab.output.renderOutput(dataTable, element);\n",
              "          const docLink = document.createElement('div');\n",
              "          docLink.innerHTML = docLinkHtml;\n",
              "          element.appendChild(docLink);\n",
              "        }\n",
              "      </script>\n",
              "    </div>\n",
              "  </div>\n",
              "  "
            ]
          },
          "metadata": {},
          "execution_count": 23
        }
      ],
      "source": [
        "test_df.head()"
      ]
    },
    {
      "cell_type": "code",
      "execution_count": null,
      "metadata": {
        "colab": {
          "base_uri": "https://localhost:8080/"
        },
        "id": "bZWrHUI4Dd7o",
        "outputId": "4662ca4d-e8a3-4a02-d2db-e218e62f78df"
      },
      "outputs": [
        {
          "output_type": "execute_result",
          "data": {
            "text/plain": [
              "id          0\n",
              "title     122\n",
              "author    503\n",
              "text        7\n",
              "dtype: int64"
            ]
          },
          "metadata": {},
          "execution_count": 24
        }
      ],
      "source": [
        "test_df.isnull().sum()"
      ]
    },
    {
      "cell_type": "code",
      "execution_count": null,
      "metadata": {
        "colab": {
          "base_uri": "https://localhost:8080/"
        },
        "id": "Xve7M4lNDd7p",
        "outputId": "13a0408f-ed67-448d-8de5-f060556e0c3b"
      },
      "outputs": [
        {
          "output_type": "execute_result",
          "data": {
            "text/plain": [
              "id        0\n",
              "title     0\n",
              "author    0\n",
              "text      0\n",
              "dtype: int64"
            ]
          },
          "metadata": {},
          "execution_count": 25
        }
      ],
      "source": [
        "#filling nan values with space(' ')\n",
        "test_df=test_df.fillna(' ')\n",
        "test_df.isnull().sum()"
      ]
    },
    {
      "cell_type": "code",
      "execution_count": null,
      "metadata": {
        "colab": {
          "base_uri": "https://localhost:8080/",
          "height": 285
        },
        "id": "2v0MFLf3Dd7p",
        "outputId": "f3734c81-0bd9-4718-de1b-52f630809c77"
      },
      "outputs": [
        {
          "output_type": "execute_result",
          "data": {
            "text/plain": [
              "      id                                              title  \\\n",
              "0  20800  Specter of Trump Loosens Tongues, if Not Purse...   \n",
              "1  20801  Russian warships ready to strike terrorists ne...   \n",
              "2  20802  #NoDAPL: Native American Leaders Vow to Stay A...   \n",
              "3  20803  Tim Tebow Will Attempt Another Comeback, This ...   \n",
              "4  20804                    Keiser Report: Meme Wars (E995)   \n",
              "\n",
              "                    author                                               text  \\\n",
              "0         David Streitfeld  PALO ALTO, Calif.  —   After years of scorning...   \n",
              "1                           Russian warships ready to strike terrorists ne...   \n",
              "2            Common Dreams  Videos #NoDAPL: Native American Leaders Vow to...   \n",
              "3            Daniel Victor  If at first you don’t succeed, try a different...   \n",
              "4  Truth Broadcast Network  42 mins ago 1 Views 0 Comments 0 Likes 'For th...   \n",
              "\n",
              "                                             summary  \n",
              "0  Specter of Trump Loosens Tongues, if Not Purse...  \n",
              "1  Russian warships ready to strike terrorists ne...  \n",
              "2  #NoDAPL: Native American Leaders Vow to Stay A...  \n",
              "3  Tim Tebow Will Attempt Another Comeback, This ...  \n",
              "4  Keiser Report: Meme Wars (E995) Truth Broadcas...  "
            ],
            "text/html": [
              "\n",
              "  <div id=\"df-d6ef386d-6390-4cd2-b4ce-fce514a1a04a\">\n",
              "    <div class=\"colab-df-container\">\n",
              "      <div>\n",
              "<style scoped>\n",
              "    .dataframe tbody tr th:only-of-type {\n",
              "        vertical-align: middle;\n",
              "    }\n",
              "\n",
              "    .dataframe tbody tr th {\n",
              "        vertical-align: top;\n",
              "    }\n",
              "\n",
              "    .dataframe thead th {\n",
              "        text-align: right;\n",
              "    }\n",
              "</style>\n",
              "<table border=\"1\" class=\"dataframe\">\n",
              "  <thead>\n",
              "    <tr style=\"text-align: right;\">\n",
              "      <th></th>\n",
              "      <th>id</th>\n",
              "      <th>title</th>\n",
              "      <th>author</th>\n",
              "      <th>text</th>\n",
              "      <th>summary</th>\n",
              "    </tr>\n",
              "  </thead>\n",
              "  <tbody>\n",
              "    <tr>\n",
              "      <th>0</th>\n",
              "      <td>20800</td>\n",
              "      <td>Specter of Trump Loosens Tongues, if Not Purse...</td>\n",
              "      <td>David Streitfeld</td>\n",
              "      <td>PALO ALTO, Calif.  —   After years of scorning...</td>\n",
              "      <td>Specter of Trump Loosens Tongues, if Not Purse...</td>\n",
              "    </tr>\n",
              "    <tr>\n",
              "      <th>1</th>\n",
              "      <td>20801</td>\n",
              "      <td>Russian warships ready to strike terrorists ne...</td>\n",
              "      <td></td>\n",
              "      <td>Russian warships ready to strike terrorists ne...</td>\n",
              "      <td>Russian warships ready to strike terrorists ne...</td>\n",
              "    </tr>\n",
              "    <tr>\n",
              "      <th>2</th>\n",
              "      <td>20802</td>\n",
              "      <td>#NoDAPL: Native American Leaders Vow to Stay A...</td>\n",
              "      <td>Common Dreams</td>\n",
              "      <td>Videos #NoDAPL: Native American Leaders Vow to...</td>\n",
              "      <td>#NoDAPL: Native American Leaders Vow to Stay A...</td>\n",
              "    </tr>\n",
              "    <tr>\n",
              "      <th>3</th>\n",
              "      <td>20803</td>\n",
              "      <td>Tim Tebow Will Attempt Another Comeback, This ...</td>\n",
              "      <td>Daniel Victor</td>\n",
              "      <td>If at first you don’t succeed, try a different...</td>\n",
              "      <td>Tim Tebow Will Attempt Another Comeback, This ...</td>\n",
              "    </tr>\n",
              "    <tr>\n",
              "      <th>4</th>\n",
              "      <td>20804</td>\n",
              "      <td>Keiser Report: Meme Wars (E995)</td>\n",
              "      <td>Truth Broadcast Network</td>\n",
              "      <td>42 mins ago 1 Views 0 Comments 0 Likes 'For th...</td>\n",
              "      <td>Keiser Report: Meme Wars (E995) Truth Broadcas...</td>\n",
              "    </tr>\n",
              "  </tbody>\n",
              "</table>\n",
              "</div>\n",
              "      <button class=\"colab-df-convert\" onclick=\"convertToInteractive('df-d6ef386d-6390-4cd2-b4ce-fce514a1a04a')\"\n",
              "              title=\"Convert this dataframe to an interactive table.\"\n",
              "              style=\"display:none;\">\n",
              "        \n",
              "  <svg xmlns=\"http://www.w3.org/2000/svg\" height=\"24px\"viewBox=\"0 0 24 24\"\n",
              "       width=\"24px\">\n",
              "    <path d=\"M0 0h24v24H0V0z\" fill=\"none\"/>\n",
              "    <path d=\"M18.56 5.44l.94 2.06.94-2.06 2.06-.94-2.06-.94-.94-2.06-.94 2.06-2.06.94zm-11 1L8.5 8.5l.94-2.06 2.06-.94-2.06-.94L8.5 2.5l-.94 2.06-2.06.94zm10 10l.94 2.06.94-2.06 2.06-.94-2.06-.94-.94-2.06-.94 2.06-2.06.94z\"/><path d=\"M17.41 7.96l-1.37-1.37c-.4-.4-.92-.59-1.43-.59-.52 0-1.04.2-1.43.59L10.3 9.45l-7.72 7.72c-.78.78-.78 2.05 0 2.83L4 21.41c.39.39.9.59 1.41.59.51 0 1.02-.2 1.41-.59l7.78-7.78 2.81-2.81c.8-.78.8-2.07 0-2.86zM5.41 20L4 18.59l7.72-7.72 1.47 1.35L5.41 20z\"/>\n",
              "  </svg>\n",
              "      </button>\n",
              "      \n",
              "  <style>\n",
              "    .colab-df-container {\n",
              "      display:flex;\n",
              "      flex-wrap:wrap;\n",
              "      gap: 12px;\n",
              "    }\n",
              "\n",
              "    .colab-df-convert {\n",
              "      background-color: #E8F0FE;\n",
              "      border: none;\n",
              "      border-radius: 50%;\n",
              "      cursor: pointer;\n",
              "      display: none;\n",
              "      fill: #1967D2;\n",
              "      height: 32px;\n",
              "      padding: 0 0 0 0;\n",
              "      width: 32px;\n",
              "    }\n",
              "\n",
              "    .colab-df-convert:hover {\n",
              "      background-color: #E2EBFA;\n",
              "      box-shadow: 0px 1px 2px rgba(60, 64, 67, 0.3), 0px 1px 3px 1px rgba(60, 64, 67, 0.15);\n",
              "      fill: #174EA6;\n",
              "    }\n",
              "\n",
              "    [theme=dark] .colab-df-convert {\n",
              "      background-color: #3B4455;\n",
              "      fill: #D2E3FC;\n",
              "    }\n",
              "\n",
              "    [theme=dark] .colab-df-convert:hover {\n",
              "      background-color: #434B5C;\n",
              "      box-shadow: 0px 1px 3px 1px rgba(0, 0, 0, 0.15);\n",
              "      filter: drop-shadow(0px 1px 2px rgba(0, 0, 0, 0.3));\n",
              "      fill: #FFFFFF;\n",
              "    }\n",
              "  </style>\n",
              "\n",
              "      <script>\n",
              "        const buttonEl =\n",
              "          document.querySelector('#df-d6ef386d-6390-4cd2-b4ce-fce514a1a04a button.colab-df-convert');\n",
              "        buttonEl.style.display =\n",
              "          google.colab.kernel.accessAllowed ? 'block' : 'none';\n",
              "\n",
              "        async function convertToInteractive(key) {\n",
              "          const element = document.querySelector('#df-d6ef386d-6390-4cd2-b4ce-fce514a1a04a');\n",
              "          const dataTable =\n",
              "            await google.colab.kernel.invokeFunction('convertToInteractive',\n",
              "                                                     [key], {});\n",
              "          if (!dataTable) return;\n",
              "\n",
              "          const docLinkHtml = 'Like what you see? Visit the ' +\n",
              "            '<a target=\"_blank\" href=https://colab.research.google.com/notebooks/data_table.ipynb>data table notebook</a>'\n",
              "            + ' to learn more about interactive tables.';\n",
              "          element.innerHTML = '';\n",
              "          dataTable['output_type'] = 'display_data';\n",
              "          await google.colab.output.renderOutput(dataTable, element);\n",
              "          const docLink = document.createElement('div');\n",
              "          docLink.innerHTML = docLinkHtml;\n",
              "          element.appendChild(docLink);\n",
              "        }\n",
              "      </script>\n",
              "    </div>\n",
              "  </div>\n",
              "  "
            ]
          },
          "metadata": {},
          "execution_count": 26
        }
      ],
      "source": [
        "#combining title and author,title and summary is formed\n",
        "test_df['summary']=test_df['title']+' '+test_df['author']+' '+test_df['title']\n",
        "test_df.head()"
      ]
    },
    {
      "cell_type": "code",
      "execution_count": null,
      "metadata": {
        "colab": {
          "base_uri": "https://localhost:8080/",
          "height": 53
        },
        "id": "jtyKVBZvDd7q",
        "outputId": "703f9231-c902-4fda-9a29-9d2b7c4bdab4"
      },
      "outputs": [
        {
          "output_type": "execute_result",
          "data": {
            "text/plain": [
              "'Specter of Trump Loosens Tongues, if Not Purse Strings, in Silicon Valley - The New York Times David Streitfeld Specter of Trump Loosens Tongues, if Not Purse Strings, in Silicon Valley - The New York Times'"
            ],
            "application/vnd.google.colaboratory.intrinsic+json": {
              "type": "string"
            }
          },
          "metadata": {},
          "execution_count": 27
        }
      ],
      "source": [
        "test_df['summary'][0]"
      ]
    },
    {
      "cell_type": "markdown",
      "metadata": {
        "id": "I5SwqJNUDd7q"
      },
      "source": [
        "**Removel of stop words and Stemming the words**"
      ]
    },
    {
      "cell_type": "code",
      "execution_count": null,
      "metadata": {
        "id": "4bZWJjsPDd7q"
      },
      "outputs": [],
      "source": [
        "# here we are creating corpus for the test dataset exactly the same as we created for the\n",
        "# testinging dataset\n",
        "corpus_test=[]\n",
        "\n",
        "for i in range(0,len(test_df)):\n",
        "    review=re.sub('[^a-zA-Z]',' ',test_df['summary'][i])\n",
        "    review=review.lower()\n",
        "    review=review.split()\n",
        "\n",
        "    review=[ps.stem(word) for word in review if not word in stopwords.words('english')]\n",
        "    review=' '.join(review)\n",
        "    corpus_test.append(review)\n"
      ]
    },
    {
      "cell_type": "code",
      "execution_count": null,
      "metadata": {
        "colab": {
          "base_uri": "https://localhost:8080/",
          "height": 35
        },
        "id": "u3Ukmv0CDd7r",
        "outputId": "409d73d4-0b5f-4ecf-bdab-b4fb02d9a821"
      },
      "outputs": [
        {
          "output_type": "execute_result",
          "data": {
            "text/plain": [
              "'russian warship readi strike terrorist near aleppo russian warship readi strike terrorist near aleppo'"
            ],
            "application/vnd.google.colaboratory.intrinsic+json": {
              "type": "string"
            }
          },
          "metadata": {},
          "execution_count": 29
        }
      ],
      "source": [
        "corpus_test[1]"
      ]
    },
    {
      "cell_type": "code",
      "execution_count": null,
      "metadata": {
        "colab": {
          "base_uri": "https://localhost:8080/"
        },
        "id": "ZLkZXbUuDd7r",
        "outputId": "874cd7fc-46a2-41b3-9f25-862e129ad145"
      },
      "outputs": [
        {
          "output_type": "execute_result",
          "data": {
            "text/plain": [
              "[6687,\n",
              " 2112,\n",
              " 9852,\n",
              " 3363,\n",
              " 8558,\n",
              " 7112,\n",
              " 7194,\n",
              " 6687,\n",
              " 2112,\n",
              " 9852,\n",
              " 3363,\n",
              " 8558,\n",
              " 7112,\n",
              " 7194]"
            ]
          },
          "metadata": {},
          "execution_count": 30
        }
      ],
      "source": [
        "# TensorFlow has an operation for one-hot encoding\n",
        "one_hot_reps2=[one_hot(word,voc_size) for word in corpus_test]\n",
        "one_hot_reps2[1]"
      ]
    },
    {
      "cell_type": "code",
      "execution_count": null,
      "metadata": {
        "colab": {
          "base_uri": "https://localhost:8080/"
        },
        "id": "GJSYoFx3Dd7s",
        "outputId": "9bd817ea-475d-40c2-88d1-fc1f8d04805e"
      },
      "outputs": [
        {
          "output_type": "execute_result",
          "data": {
            "text/plain": [
              "array([[   0,    0,    0, ..., 7631, 4123, 6157],\n",
              "       [   0,    0,    0, ..., 8558, 7112, 7194],\n",
              "       [   0,    0,    0, ...,  462, 3585, 5666],\n",
              "       ...,\n",
              "       [   0,    0,    0, ..., 7631, 4123, 6157],\n",
              "       [   0,    0,    0, ..., 6687, 3883, 9688],\n",
              "       [   0,    0,    0, ..., 7631, 4123, 6157]], dtype=int32)"
            ]
          },
          "metadata": {},
          "execution_count": 31
        }
      ],
      "source": [
        "# here we are specifying a sentence length so that every sentence in the corpus will be of same length\n",
        "sent_length=500\n",
        "# here we are using padding for creating equal length sentences\n",
        "embedded_docs2=pad_sequences(one_hot_reps2,padding='pre',maxlen=sent_length)\n",
        "embedded_docs2"
      ]
    },
    {
      "cell_type": "code",
      "execution_count": null,
      "metadata": {
        "colab": {
          "base_uri": "https://localhost:8080/"
        },
        "id": "yALa0b-qDd7s",
        "outputId": "f1a11ad0-5365-40ac-8683-3fa8f084dcce"
      },
      "outputs": [
        {
          "output_type": "execute_result",
          "data": {
            "text/plain": [
              "(5200, 500)"
            ]
          },
          "metadata": {},
          "execution_count": 32
        }
      ],
      "source": [
        "embedded_docs2.shape"
      ]
    },
    {
      "cell_type": "code",
      "execution_count": null,
      "metadata": {
        "colab": {
          "base_uri": "https://localhost:8080/"
        },
        "id": "ZUAtaSFNDd7t",
        "outputId": "108a1868-dd7c-496b-e556-51b4ac252be5"
      },
      "outputs": [
        {
          "output_type": "execute_result",
          "data": {
            "text/plain": [
              "array([[   0,    0,    0, ..., 7631, 4123, 6157],\n",
              "       [   0,    0,    0, ..., 8558, 7112, 7194],\n",
              "       [   0,    0,    0, ...,  462, 3585, 5666],\n",
              "       ...,\n",
              "       [   0,    0,    0, ..., 7631, 4123, 6157],\n",
              "       [   0,    0,    0, ..., 6687, 3883, 9688],\n",
              "       [   0,    0,    0, ..., 7631, 4123, 6157]], dtype=int32)"
            ]
          },
          "metadata": {},
          "execution_count": 33
        }
      ],
      "source": [
        "test_df=np.array(embedded_docs2)\n",
        "test_df"
      ]
    },
    {
      "cell_type": "markdown",
      "metadata": {
        "id": "KdnjXeDpDd7t"
      },
      "source": [
        "# LSTM"
      ]
    },
    {
      "cell_type": "markdown",
      "metadata": {
        "id": "8FX91TQgDd7t"
      },
      "source": [
        "# Building Models"
      ]
    },
    {
      "cell_type": "code",
      "execution_count": null,
      "metadata": {
        "id": "jvWv_JFwDd7u"
      },
      "outputs": [],
      "source": [
        "#Creating model\n",
        "from tensorflow.keras.layers import Dropout\n",
        "import warnings\n",
        "warnings.filterwarnings('ignore')\n",
        "embedded_feature_vector=300\n",
        "nn=Sequential([\n",
        "\n",
        "    Embedding(voc_size,embedded_feature_vector,input_length=sent_length),\n",
        "    Dropout(0.5),\n",
        "    LSTM(199),\n",
        "    Dropout(0.4),\n",
        "    Dense(399,activation='relu'),\n",
        "    Dense(43,activation='relu'),\n",
        "    Dense(1,activation='sigmoid')])"
      ]
    },
    {
      "cell_type": "code",
      "execution_count": null,
      "metadata": {
        "colab": {
          "base_uri": "https://localhost:8080/"
        },
        "id": "R0IuIOzvDd7u",
        "outputId": "aa8314fb-cec7-47b9-9747-12becdd7525c"
      },
      "outputs": [
        {
          "output_type": "stream",
          "name": "stdout",
          "text": [
            "Model: \"sequential\"\n",
            "_________________________________________________________________\n",
            " Layer (type)                Output Shape              Param #   \n",
            "=================================================================\n",
            " embedding (Embedding)       (None, 500, 300)          3000000   \n",
            "                                                                 \n",
            " dropout (Dropout)           (None, 500, 300)          0         \n",
            "                                                                 \n",
            " lstm (LSTM)                 (None, 199)               398000    \n",
            "                                                                 \n",
            " dropout_1 (Dropout)         (None, 199)               0         \n",
            "                                                                 \n",
            " dense (Dense)               (None, 399)               79800     \n",
            "                                                                 \n",
            " dense_1 (Dense)             (None, 43)                17200     \n",
            "                                                                 \n",
            " dense_2 (Dense)             (None, 1)                 44        \n",
            "                                                                 \n",
            "=================================================================\n",
            "Total params: 3,495,044\n",
            "Trainable params: 3,495,044\n",
            "Non-trainable params: 0\n",
            "_________________________________________________________________\n"
          ]
        }
      ],
      "source": [
        "nn.summary()"
      ]
    },
    {
      "cell_type": "markdown",
      "metadata": {
        "id": "s7_LfpH3Dd7v"
      },
      "source": [
        "# Spiliting and Training"
      ]
    },
    {
      "cell_type": "code",
      "execution_count": null,
      "metadata": {
        "id": "qN3KZkk8Dd7v"
      },
      "outputs": [],
      "source": [
        "# here we are splitting the data for training and testing the model\n",
        "from sklearn.model_selection import train_test_split\n",
        "X_train, X_test, y_train, y_test = train_test_split(x, y, test_size=0.33, random_state=42)"
      ]
    },
    {
      "cell_type": "code",
      "execution_count": null,
      "metadata": {
        "colab": {
          "base_uri": "https://localhost:8080/"
        },
        "id": "Iw9S8v_zDd7v",
        "outputId": "c05ba990-a793-4f67-c7b1-f242b5c5fa27"
      },
      "outputs": [
        {
          "output_type": "stream",
          "name": "stdout",
          "text": [
            "Epoch 1/50\n",
            "218/218 [==============================] - 13s 54ms/step - loss: 0.1257 - accuracy: 0.9555 - val_loss: 0.1632 - val_accuracy: 0.9375\n",
            "Epoch 2/50\n",
            "218/218 [==============================] - 11s 52ms/step - loss: 0.0471 - accuracy: 0.9856 - val_loss: 0.2027 - val_accuracy: 0.9414\n",
            "Epoch 3/50\n",
            "218/218 [==============================] - 12s 53ms/step - loss: 0.0311 - accuracy: 0.9905 - val_loss: 0.2350 - val_accuracy: 0.9327\n",
            "Epoch 4/50\n",
            "218/218 [==============================] - 12s 54ms/step - loss: 0.0330 - accuracy: 0.9897 - val_loss: 0.2854 - val_accuracy: 0.9308\n",
            "Epoch 5/50\n",
            "218/218 [==============================] - 12s 55ms/step - loss: 0.0718 - accuracy: 0.9742 - val_loss: 0.2685 - val_accuracy: 0.8922\n",
            "Epoch 6/50\n",
            "218/218 [==============================] - 12s 54ms/step - loss: 0.0230 - accuracy: 0.9923 - val_loss: 0.2769 - val_accuracy: 0.9330\n",
            "Epoch 7/50\n",
            "218/218 [==============================] - 12s 54ms/step - loss: 0.0136 - accuracy: 0.9961 - val_loss: 0.4059 - val_accuracy: 0.9315\n",
            "Epoch 8/50\n",
            "218/218 [==============================] - 12s 54ms/step - loss: 0.0095 - accuracy: 0.9975 - val_loss: 0.3525 - val_accuracy: 0.9358\n",
            "Epoch 9/50\n",
            "218/218 [==============================] - 12s 53ms/step - loss: 0.0075 - accuracy: 0.9976 - val_loss: 0.4442 - val_accuracy: 0.9280\n",
            "Epoch 10/50\n",
            "218/218 [==============================] - 12s 54ms/step - loss: 0.0189 - accuracy: 0.9936 - val_loss: 0.3733 - val_accuracy: 0.9167\n",
            "Epoch 11/50\n",
            "218/218 [==============================] - 12s 55ms/step - loss: 0.1098 - accuracy: 0.9593 - val_loss: 0.4675 - val_accuracy: 0.6970\n",
            "Epoch 12/50\n",
            "218/218 [==============================] - 12s 56ms/step - loss: 0.1968 - accuracy: 0.9214 - val_loss: 0.2698 - val_accuracy: 0.9062\n",
            "Epoch 13/50\n",
            "218/218 [==============================] - 12s 54ms/step - loss: 0.0399 - accuracy: 0.9853 - val_loss: 0.2471 - val_accuracy: 0.9339\n",
            "Epoch 14/50\n",
            "218/218 [==============================] - 12s 54ms/step - loss: 0.0126 - accuracy: 0.9960 - val_loss: 0.2604 - val_accuracy: 0.9298\n",
            "Epoch 15/50\n",
            "218/218 [==============================] - 12s 54ms/step - loss: 0.0107 - accuracy: 0.9964 - val_loss: 0.3129 - val_accuracy: 0.9382\n",
            "Epoch 16/50\n",
            "218/218 [==============================] - 12s 54ms/step - loss: 0.0022 - accuracy: 0.9995 - val_loss: 0.3242 - val_accuracy: 0.9417\n",
            "Epoch 17/50\n",
            "218/218 [==============================] - 13s 58ms/step - loss: 0.0028 - accuracy: 0.9989 - val_loss: 0.3709 - val_accuracy: 0.9441\n",
            "Epoch 18/50\n",
            "218/218 [==============================] - 12s 54ms/step - loss: 2.5420e-04 - accuracy: 1.0000 - val_loss: 0.4118 - val_accuracy: 0.9470\n",
            "Epoch 19/50\n",
            "218/218 [==============================] - 12s 54ms/step - loss: 0.0069 - accuracy: 0.9982 - val_loss: 0.3754 - val_accuracy: 0.9385\n",
            "Epoch 20/50\n",
            "218/218 [==============================] - 12s 54ms/step - loss: 0.0080 - accuracy: 0.9971 - val_loss: 0.3427 - val_accuracy: 0.9312\n",
            "Epoch 21/50\n",
            "218/218 [==============================] - 12s 54ms/step - loss: 0.0045 - accuracy: 0.9988 - val_loss: 0.3556 - val_accuracy: 0.9429\n",
            "Epoch 22/50\n",
            "218/218 [==============================] - 12s 54ms/step - loss: 0.0033 - accuracy: 0.9993 - val_loss: 0.4362 - val_accuracy: 0.9320\n",
            "Epoch 23/50\n",
            "218/218 [==============================] - 12s 54ms/step - loss: 0.0042 - accuracy: 0.9988 - val_loss: 0.5426 - val_accuracy: 0.9206\n",
            "Epoch 24/50\n",
            "218/218 [==============================] - 12s 54ms/step - loss: 0.0086 - accuracy: 0.9973 - val_loss: 0.2843 - val_accuracy: 0.9304\n",
            "Epoch 25/50\n",
            "218/218 [==============================] - 12s 54ms/step - loss: 0.0027 - accuracy: 0.9991 - val_loss: 0.3653 - val_accuracy: 0.9451\n",
            "Epoch 26/50\n",
            "218/218 [==============================] - 12s 53ms/step - loss: 0.0013 - accuracy: 0.9996 - val_loss: 0.3879 - val_accuracy: 0.9359\n",
            "Epoch 27/50\n",
            "218/218 [==============================] - 12s 54ms/step - loss: 0.0125 - accuracy: 0.9959 - val_loss: 0.2670 - val_accuracy: 0.9465\n",
            "Epoch 28/50\n",
            "218/218 [==============================] - 12s 55ms/step - loss: 0.0049 - accuracy: 0.9984 - val_loss: 0.2906 - val_accuracy: 0.9353\n",
            "Epoch 29/50\n",
            "218/218 [==============================] - 12s 55ms/step - loss: 0.0013 - accuracy: 0.9996 - val_loss: 0.3752 - val_accuracy: 0.9458\n",
            "Epoch 30/50\n",
            "218/218 [==============================] - 12s 54ms/step - loss: 0.0029 - accuracy: 0.9988 - val_loss: 0.3342 - val_accuracy: 0.9493\n",
            "Epoch 31/50\n",
            "218/218 [==============================] - 12s 53ms/step - loss: 2.6589e-04 - accuracy: 1.0000 - val_loss: 0.4274 - val_accuracy: 0.9476\n",
            "Epoch 32/50\n",
            "218/218 [==============================] - 12s 53ms/step - loss: 1.0793e-04 - accuracy: 1.0000 - val_loss: 0.4619 - val_accuracy: 0.9461\n",
            "Epoch 33/50\n",
            "218/218 [==============================] - 12s 54ms/step - loss: 0.0014 - accuracy: 0.9996 - val_loss: 0.4130 - val_accuracy: 0.9486\n",
            "Epoch 34/50\n",
            "218/218 [==============================] - 12s 54ms/step - loss: 0.0017 - accuracy: 0.9994 - val_loss: 0.3807 - val_accuracy: 0.9484\n",
            "Epoch 35/50\n",
            "218/218 [==============================] - 12s 56ms/step - loss: 1.3351e-04 - accuracy: 1.0000 - val_loss: 0.4673 - val_accuracy: 0.9422\n",
            "Epoch 36/50\n",
            "218/218 [==============================] - 12s 53ms/step - loss: 3.3985e-05 - accuracy: 1.0000 - val_loss: 0.4933 - val_accuracy: 0.9458\n",
            "Epoch 37/50\n",
            "218/218 [==============================] - 12s 53ms/step - loss: 9.3519e-06 - accuracy: 1.0000 - val_loss: 0.5046 - val_accuracy: 0.9473\n",
            "Epoch 38/50\n",
            "218/218 [==============================] - 12s 53ms/step - loss: 9.9366e-04 - accuracy: 0.9998 - val_loss: 0.4738 - val_accuracy: 0.9206\n",
            "Epoch 39/50\n",
            "218/218 [==============================] - 12s 54ms/step - loss: 0.0299 - accuracy: 0.9902 - val_loss: 0.2538 - val_accuracy: 0.9470\n",
            "Epoch 40/50\n",
            "218/218 [==============================] - 12s 54ms/step - loss: 0.0068 - accuracy: 0.9978 - val_loss: 0.2761 - val_accuracy: 0.9422\n",
            "Epoch 41/50\n",
            "218/218 [==============================] - 12s 54ms/step - loss: 0.0038 - accuracy: 0.9983 - val_loss: 0.4068 - val_accuracy: 0.9474\n",
            "Epoch 42/50\n",
            "218/218 [==============================] - 12s 54ms/step - loss: 0.0014 - accuracy: 0.9996 - val_loss: 0.3640 - val_accuracy: 0.9512\n",
            "Epoch 43/50\n",
            "218/218 [==============================] - 12s 54ms/step - loss: 0.0030 - accuracy: 0.9989 - val_loss: 0.3359 - val_accuracy: 0.9484\n",
            "Epoch 44/50\n",
            "218/218 [==============================] - 12s 55ms/step - loss: 0.0044 - accuracy: 0.9986 - val_loss: 0.3348 - val_accuracy: 0.9452\n",
            "Epoch 45/50\n",
            "218/218 [==============================] - 12s 56ms/step - loss: 1.9213e-04 - accuracy: 1.0000 - val_loss: 0.3733 - val_accuracy: 0.9506\n",
            "Epoch 46/50\n",
            "218/218 [==============================] - 12s 54ms/step - loss: 3.0802e-04 - accuracy: 0.9999 - val_loss: 0.4507 - val_accuracy: 0.9492\n",
            "Epoch 47/50\n",
            "218/218 [==============================] - 12s 53ms/step - loss: 3.1607e-04 - accuracy: 0.9999 - val_loss: 0.4351 - val_accuracy: 0.9502\n",
            "Epoch 48/50\n",
            "218/218 [==============================] - 12s 54ms/step - loss: 0.0045 - accuracy: 0.9986 - val_loss: 0.3049 - val_accuracy: 0.9462\n",
            "Epoch 49/50\n",
            "218/218 [==============================] - 12s 54ms/step - loss: 0.0014 - accuracy: 0.9996 - val_loss: 0.3194 - val_accuracy: 0.9575\n",
            "Epoch 50/50\n",
            "218/218 [==============================] - 12s 54ms/step - loss: 5.2484e-04 - accuracy: 0.9999 - val_loss: 0.3920 - val_accuracy: 0.9512\n"
          ]
        },
        {
          "output_type": "execute_result",
          "data": {
            "text/plain": [
              "<keras.callbacks.History at 0x7f4a9c283160>"
            ]
          },
          "metadata": {},
          "execution_count": 38
        }
      ],
      "source": [
        "nn.compile(optimizer='adam',loss='binary_crossentropy',metrics=['accuracy'])\n",
        "#nn.fit(X_train,y_train,validation_data=(X_test,y_test),epochs=50,batch_size=64)\n",
        "# Train the model on the training data with validation split\n",
        "nn.fit(X_train, y_train, validation_split=0.2, epochs=50, batch_size=64)"
      ]
    },
    {
      "cell_type": "code",
      "execution_count": null,
      "metadata": {
        "id": "WkWigd4UDd7w",
        "colab": {
          "base_uri": "https://localhost:8080/"
        },
        "outputId": "797dc8d8-8869-48cb-a0a5-9d7dea47ea47"
      },
      "outputs": [
        {
          "output_type": "stream",
          "name": "stdout",
          "text": [
            "215/215 [==============================] - 3s 12ms/step\n"
          ]
        },
        {
          "output_type": "execute_result",
          "data": {
            "text/plain": [
              "array([[9.9999964e-01],\n",
              "       [1.0000000e+00],\n",
              "       [9.9141129e-10],\n",
              "       ...,\n",
              "       [2.0233461e-10],\n",
              "       [1.2964181e-08],\n",
              "       [3.1763185e-09]], dtype=float32)"
            ]
          },
          "metadata": {},
          "execution_count": 78
        }
      ],
      "source": [
        "y_pred=nn.predict(X_test)\n",
        "y_pred"
      ]
    },
    {
      "cell_type": "code",
      "execution_count": null,
      "metadata": {
        "id": "mduo-lmLDd7w",
        "colab": {
          "base_uri": "https://localhost:8080/"
        },
        "outputId": "bf688931-5562-4a39-ef0c-4de7eb44171d"
      },
      "outputs": [
        {
          "output_type": "execute_result",
          "data": {
            "text/plain": [
              "array([[ True],\n",
              "       [ True],\n",
              "       [False],\n",
              "       ...,\n",
              "       [False],\n",
              "       [False],\n",
              "       [False]])"
            ]
          },
          "metadata": {},
          "execution_count": 79
        }
      ],
      "source": [
        "y_pred=(y_pred>0.5)\n",
        "y_pred"
      ]
    },
    {
      "cell_type": "code",
      "execution_count": null,
      "metadata": {
        "id": "IHMh0oa_Dd7w",
        "colab": {
          "base_uri": "https://localhost:8080/"
        },
        "outputId": "726e01a9-5042-4b38-b820-765fcc90cf89"
      },
      "outputs": [
        {
          "output_type": "execute_result",
          "data": {
            "text/plain": [
              "array([ True,  True, False, ..., False, False, False])"
            ]
          },
          "metadata": {},
          "execution_count": 81
        }
      ],
      "source": [
        "y_pred=y_pred.reshape(-1,)\n",
        "y_pred"
      ]
    },
    {
      "cell_type": "code",
      "source": [
        "y_test"
      ],
      "metadata": {
        "colab": {
          "base_uri": "https://localhost:8080/"
        },
        "id": "R2eVJz5jRiZb",
        "outputId": "11be3533-f4cd-4f73-e88e-ffc0bb117965"
      },
      "execution_count": null,
      "outputs": [
        {
          "output_type": "execute_result",
          "data": {
            "text/plain": [
              "array([1, 1, 0, ..., 0, 0, 0])"
            ]
          },
          "metadata": {},
          "execution_count": 80
        }
      ]
    },
    {
      "cell_type": "code",
      "source": [
        "#y_pred=np.argmax(y_pred)"
      ],
      "metadata": {
        "id": "HplaR8TrRNjz"
      },
      "execution_count": null,
      "outputs": []
    },
    {
      "cell_type": "code",
      "source": [
        "#from sklearn.preprocessing import label_binarize\n",
        "#y_pred=label_binarize(y_pred, classes=['False', 'True'])"
      ],
      "metadata": {
        "id": "N4QTeUiBO1Yq"
      },
      "execution_count": null,
      "outputs": []
    },
    {
      "cell_type": "code",
      "source": [
        "y_pred= np.array(y_pred)\n",
        "y_pred"
      ],
      "metadata": {
        "colab": {
          "base_uri": "https://localhost:8080/"
        },
        "id": "ZKgCXEmVPL8b",
        "outputId": "1121cc45-6bff-4766-8990-96135af7bf4d"
      },
      "execution_count": null,
      "outputs": [
        {
          "output_type": "execute_result",
          "data": {
            "text/plain": [
              "array([ True,  True, False, ..., False, False, False])"
            ]
          },
          "metadata": {},
          "execution_count": 82
        }
      ]
    },
    {
      "cell_type": "code",
      "source": [
        "y_test =np.array(y_test)\n",
        "y_test"
      ],
      "metadata": {
        "colab": {
          "base_uri": "https://localhost:8080/"
        },
        "id": "VORCBilgOj7j",
        "outputId": "dbc86837-295a-4289-e585-693ebe135ec4"
      },
      "execution_count": null,
      "outputs": [
        {
          "output_type": "execute_result",
          "data": {
            "text/plain": [
              "array([1, 1, 0, ..., 0, 0, 0])"
            ]
          },
          "metadata": {},
          "execution_count": 83
        }
      ]
    },
    {
      "cell_type": "code",
      "source": [
        "from sklearn.metrics import confusion_matrix, classification_report\n",
        "\n",
        "cm = confusion_matrix(y_test, y_pred)\n",
        "cm"
      ],
      "metadata": {
        "colab": {
          "base_uri": "https://localhost:8080/"
        },
        "id": "qlKFXKViHFIh",
        "outputId": "73002603-08ce-445d-d681-a603a1542654"
      },
      "execution_count": null,
      "outputs": [
        {
          "output_type": "execute_result",
          "data": {
            "text/plain": [
              "array([[3263,  186],\n",
              "       [ 149, 3266]])"
            ]
          },
          "metadata": {},
          "execution_count": 84
        }
      ]
    },
    {
      "cell_type": "code",
      "source": [
        "from matplotlib import pyplot as plt\n",
        "import seaborn as sn\n",
        "sn.heatmap(cm, annot=True, fmt='d')\n",
        "plt.xlabel('Predicted')\n",
        "plt.ylabel('Truth')"
      ],
      "metadata": {
        "colab": {
          "base_uri": "https://localhost:8080/",
          "height": 296
        },
        "id": "82XbXZeOHl2q",
        "outputId": "3056b010-1188-4088-ebcb-e26e5fcedb0e"
      },
      "execution_count": null,
      "outputs": [
        {
          "output_type": "execute_result",
          "data": {
            "text/plain": [
              "Text(33.0, 0.5, 'Truth')"
            ]
          },
          "metadata": {},
          "execution_count": 85
        },
        {
          "output_type": "display_data",
          "data": {
            "text/plain": [
              "<Figure size 432x288 with 2 Axes>"
            ],
            "image/png": "[encoded data removed]"
          },
          "metadata": {
            "needs_background": "light"
          }
        }
      ]
    },
    {
      "cell_type": "code",
      "source": [
        "from sklearn.metrics import classification_report\n",
        "print(classification_report(y_test, y_pred))"
      ],
      "metadata": {
        "colab": {
          "base_uri": "https://localhost:8080/"
        },
        "id": "NB6Nu1GXQeb5",
        "outputId": "74cc2aa1-dcbc-4b6d-c60f-201c659c80e8"
      },
      "execution_count": null,
      "outputs": [
        {
          "output_type": "stream",
          "name": "stdout",
          "text": [
            "              precision    recall  f1-score   support\n",
            "\n",
            "           0       0.96      0.95      0.95      3449\n",
            "           1       0.95      0.96      0.95      3415\n",
            "\n",
            "    accuracy                           0.95      6864\n",
            "   macro avg       0.95      0.95      0.95      6864\n",
            "weighted avg       0.95      0.95      0.95      6864\n",
            "\n"
          ]
        }
      ]
    }
  ],
  "metadata": {
    "colab": {
      "provenance": [],
      "collapsed_sections": [
        "KdnjXeDpDd7t"
      ]
    },
    "kernelspec": {
      "display_name": "Python 3",
      "language": "python",
      "name": "python3"
    },
    "language_info": {
      "codemirror_mode": {
        "name": "ipython",
        "version": 3
      },
      "file_extension": ".py",
      "mimetype": "text/x-python",
      "name": "python",
      "nbconvert_exporter": "python",
      "pygments_lexer": "ipython3",
      "version": "3.6.4"
    },
    "accelerator": "GPU",
    "gpuClass": "standard"
  },
  "nbformat": 4,
  "nbformat_minor": 0
}