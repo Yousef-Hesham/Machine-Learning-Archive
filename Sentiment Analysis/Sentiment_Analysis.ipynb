{
  "nbformat": 4,
  "nbformat_minor": 0,
  "metadata": {
    "colab": {
      "provenance": []
    },
    "kernelspec": {
      "name": "python3",
      "display_name": "Python 3"
    },
    "language_info": {
      "name": "python"
    }
  },
  "cells": [
    {
      "cell_type": "markdown",
      "source": [
        "# Code Implementation of Sentiment Classifier using Naive Bayes"
      ],
      "metadata": {
        "id": "D-ZUjmxCyf2J"
      }
    },
    {
      "cell_type": "code",
      "execution_count": 1,
      "metadata": {
        "colab": {
          "base_uri": "https://localhost:8080/"
        },
        "id": "8OYeCgsUG4G_",
        "outputId": "b39a6fb8-3522-4e9a-aecf-ca567b0bddf8"
      },
      "outputs": [
        {
          "output_type": "stream",
          "name": "stdout",
          "text": [
            "Predicted sentiment: ['positive']\n"
          ]
        }
      ],
      "source": [
        "from sklearn.feature_extraction.text import CountVectorizer\n",
        "from sklearn.naive_bayes import MultinomialNB\n",
        "from sklearn.pipeline import make_pipeline\n",
        "\n",
        "# Sample training data\n",
        "train_texts = [\"This movie is fantastic!\",\n",
        "               \"I didn't like this book.\",\n",
        "               \"The food at the restaurant was delicious.\"]\n",
        "\n",
        "# Corresponding sentiment labels\n",
        "train_labels = [\"positive\", \"negative\", \"positive\"]\n",
        "\n",
        "# Create a pipeline with CountVectorizer for feature extraction and MultinomialNB for classification\n",
        "model = make_pipeline(CountVectorizer(), MultinomialNB())\n",
        "\n",
        "# Train the model on the training data\n",
        "model.fit(train_texts, train_labels)\n",
        "\n",
        "# Example text to classify\n",
        "test_text = [\"I love this song!\"]\n",
        "\n",
        "# Predict sentiment label for the test text\n",
        "predicted_sentiment = model.predict(test_text)\n",
        "print(\"Predicted sentiment:\", predicted_sentiment)"
      ]
    },
    {
      "cell_type": "markdown",
      "source": [
        "# Code Implementation of Sentiment Classifier using RNN"
      ],
      "metadata": {
        "id": "OmPB3_AuyvWo"
      }
    },
    {
      "cell_type": "code",
      "source": [
        "import numpy as np\n",
        "from keras.preprocessing.text import Tokenizer\n",
        "from keras.preprocessing.sequence import pad_sequences\n",
        "from keras.models import Sequential\n",
        "from keras.layers import Embedding, LSTM, Dense\n",
        "\n",
        "# Sample training data\n",
        "train_texts = [\"This movie is fantastic!\",\n",
        "               \"I didn't like this book.\",\n",
        "               \"The food at the restaurant was delicious.\"]\n",
        "train_labels = [1, 0, 1]  # 1 for positive sentiment, 0 for negative sentiment\n",
        "\n",
        "# Tokenize the training texts\n",
        "tokenizer = Tokenizer()\n",
        "tokenizer.fit_on_texts(train_texts)\n",
        "train_sequences = tokenizer.texts_to_sequences(train_texts)\n",
        "\n",
        "# Pad sequences to ensure uniform length\n",
        "max_sequence_length = max([len(seq) for seq in train_sequences])\n",
        "train_sequences_padded = pad_sequences(train_sequences, maxlen=max_sequence_length)\n",
        "\n",
        "# Build RNN model\n",
        "embedding_dim = 100\n",
        "model = Sequential()\n",
        "model.add(Embedding(input_dim=len(tokenizer.word_index) + 1, output_dim=embedding_dim, input_length=max_sequence_length))\n",
        "model.add(LSTM(units=128))\n",
        "model.add(Dense(units=1, activation='sigmoid'))\n",
        "\n",
        "# Compile the model\n",
        "model.compile(optimizer='adam', loss='binary_crossentropy', metrics=['accuracy'])\n",
        "\n",
        "# Train the model\n",
        "model.fit(train_sequences_padded, np.array(train_labels), epochs=10, batch_size=1)\n",
        "\n",
        "# Example text to classify\n",
        "test_text = [\"I love this song!\"]\n",
        "test_sequence = tokenizer.texts_to_sequences(test_text)\n",
        "test_sequence_padded = pad_sequences(test_sequence, maxlen=max_sequence_length)\n",
        "\n",
        "# Predict sentiment label for the test text\n",
        "predicted_sentiment = model.predict(test_sequence_padded)\n",
        "\n",
        "print(f\"Sentence :{test_text[0]} | Sentiment: Positive\")\n",
        "print(\"Predicted sentiment:\", \"Positive\" if predicted_sentiment[0][0] > .5 else \"Negative\",\n",
        "      \"| True Sentiment: Positive\")\n"
      ],
      "metadata": {
        "colab": {
          "base_uri": "https://localhost:8080/"
        },
        "id": "wMvTb3weG9q-",
        "outputId": "aad2a884-7483-4816-edda-696d702577c6"
      },
      "execution_count": 2,
      "outputs": [
        {
          "output_type": "stream",
          "name": "stdout",
          "text": [
            "Epoch 1/10\n",
            "3/3 [==============================] - 7s 23ms/step - loss: 0.6986 - accuracy: 0.0000e+00\n",
            "Epoch 2/10\n",
            "3/3 [==============================] - 0s 18ms/step - loss: 0.6822 - accuracy: 1.0000\n",
            "Epoch 3/10\n",
            "3/3 [==============================] - 0s 20ms/step - loss: 0.6610 - accuracy: 1.0000\n",
            "Epoch 4/10\n",
            "3/3 [==============================] - 0s 17ms/step - loss: 0.6412 - accuracy: 1.0000\n",
            "Epoch 5/10\n",
            "3/3 [==============================] - 0s 34ms/step - loss: 0.6192 - accuracy: 1.0000\n",
            "Epoch 6/10\n",
            "3/3 [==============================] - 0s 22ms/step - loss: 0.5861 - accuracy: 1.0000\n",
            "Epoch 7/10\n",
            "3/3 [==============================] - 0s 18ms/step - loss: 0.5314 - accuracy: 1.0000\n",
            "Epoch 8/10\n",
            "3/3 [==============================] - 0s 18ms/step - loss: 0.4788 - accuracy: 1.0000\n",
            "Epoch 9/10\n",
            "3/3 [==============================] - 0s 21ms/step - loss: 0.4022 - accuracy: 1.0000\n",
            "Epoch 10/10\n",
            "3/3 [==============================] - 0s 14ms/step - loss: 0.2950 - accuracy: 1.0000\n",
            "1/1 [==============================] - 1s 1s/step\n",
            "Sentence :I love this song! | Sentiment: Positive\n",
            "Predicted sentiment: Positive | True Sentiment: Positive\n"
          ]
        }
      ]
    }
  ]
}