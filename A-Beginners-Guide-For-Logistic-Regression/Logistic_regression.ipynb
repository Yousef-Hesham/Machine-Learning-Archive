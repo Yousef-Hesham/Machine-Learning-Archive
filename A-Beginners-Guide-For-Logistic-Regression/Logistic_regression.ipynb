{
  "nbformat": 4,
  "nbformat_minor": 0,
  "metadata": {
    "colab": {
      "provenance": [],
      "collapsed_sections": []
    },
    "kernelspec": {
      "name": "python3",
      "display_name": "Python 3"
    },
    "language_info": {
      "name": "python"
    }
  },
  "cells": [
    {
      "cell_type": "markdown",
      "source": [
        "# Importing the libraries"
      ],
      "metadata": {
        "id": "5QS0sCG8yNOK"
      }
    },
    {
      "cell_type": "code",
      "source": [
        "import numpy as np\n",
        "import matplotlib.pyplot as plt\n",
        "from keras.datasets import mnist\n",
        "from sklearn.linear_model import LogisticRegression\n",
        "import seaborn as sns\n",
        "from matplotlib import rcParams\n",
        "from sklearn.metrics import confusion_matrix, precision_recall_fscore_support, accuracy_score, roc_curve, auc, roc_auc_score\n",
        "from sklearn.preprocessing import label_binarize"
      ],
      "metadata": {
        "id": "DDZf_c7jyCgg"
      },
      "execution_count": null,
      "outputs": []
    },
    {
      "cell_type": "markdown",
      "source": [
        "# Importing the dataset"
      ],
      "metadata": {
        "id": "ordw7VrryH0G"
      }
    },
    {
      "cell_type": "code",
      "source": [
        "(X_train, y_train), (X_test, y_test) = mnist.load_data()\n",
        "for i in range(3):  \n",
        "  plt.subplot(3, 1, i+1)\n",
        "  plt.imshow(X_train[i])\n",
        "  plt.show()"
      ],
      "metadata": {
        "id": "jTUgSn9oyWeW",
        "colab": {
          "base_uri": "https://localhost:8080/",
          "height": 363
        },
        "outputId": "afb35298-84b7-40e9-d038-8d8fe9ec2ee3"
      },
      "execution_count": null,
      "outputs": [
        {
          "output_type": "stream",
          "name": "stdout",
          "text": [
            "Downloading data from https://storage.googleapis.com/tensorflow/tf-keras-datasets/mnist.npz\n",
            "11493376/11490434 [==============================] - 0s 0us/step\n",
            "11501568/11490434 [==============================] - 0s 0us/step\n"
          ]
        },
        {
          "output_type": "display_data",
          "data": {
            "text/plain": [
              "<Figure size 432x288 with 1 Axes>"
            ],
            "image/png": "[encoded data removed]"
          },
          "metadata": {
            "needs_background": "light"
          }
        },
        {
          "output_type": "display_data",
          "data": {
            "text/plain": [
              "<Figure size 432x288 with 1 Axes>"
            ],
            "image/png": "[encoded data removed]"
          },
          "metadata": {
            "needs_background": "light"
          }
        },
        {
          "output_type": "display_data",
          "data": {
            "text/plain": [
              "<Figure size 432x288 with 1 Axes>"
            ],
            "image/png": "[encoded data removed]"
          },
          "metadata": {
            "needs_background": "light"
          }
        }
      ]
    },
    {
      "cell_type": "markdown",
      "source": [
        "# Data reshaping"
      ],
      "metadata": {
        "id": "zCColqdyy5oN"
      }
    },
    {
      "cell_type": "code",
      "source": [
        "print(f'Before reshaping:\\nX_train:{X_train.shape}\\nX_test:{X_test.shape}')\n",
        "X_train = X_train.reshape(X_train.shape[0],-1)\n",
        "X_test = X_test.reshape(X_test.shape[0],-1)\n",
        "print(f'\\nAfter reshaping:\\nX_train:{X_train.shape}\\nX_test:{X_test.shape}')"
      ],
      "metadata": {
        "id": "zZmisy1yy9CJ",
        "colab": {
          "base_uri": "https://localhost:8080/"
        },
        "outputId": "fa9c99ae-39cc-433c-f88b-03b9d8c29f19"
      },
      "execution_count": null,
      "outputs": [
        {
          "output_type": "stream",
          "name": "stdout",
          "text": [
            "Before reshaping:\n",
            "X_train:(60000, 28, 28)\n",
            "X_test:(10000, 28, 28)\n",
            "\n",
            "After reshaping:\n",
            "X_train:(60000, 784)\n",
            "X_test:(10000, 784)\n"
          ]
        }
      ]
    },
    {
      "cell_type": "markdown",
      "source": [
        "# Data normalization"
      ],
      "metadata": {
        "id": "VnjWBiUn-MKv"
      }
    },
    {
      "cell_type": "code",
      "source": [
        "print(f'Before normalization:\\nmax value:{X_train.max()}\\nmin value:{X_train.min()}')\n",
        "X_train = X_train / 255.0\n",
        "X_test = X_test / 255.0\n",
        "print(f'After normalization:\\nmax value:{X_train.max()}\\nmin value:{X_train.min()}')"
      ],
      "metadata": {
        "id": "n_c_eCc3-OX7",
        "colab": {
          "base_uri": "https://localhost:8080/"
        },
        "outputId": "9be0f00a-e166-43a7-9b1a-e38378050be3"
      },
      "execution_count": null,
      "outputs": [
        {
          "output_type": "stream",
          "name": "stdout",
          "text": [
            "Before normalization:\n",
            "max value:255\n",
            "min value:0\n",
            "After normalization:\n",
            "max value:1.0\n",
            "min value:0.0\n"
          ]
        }
      ]
    },
    {
      "cell_type": "markdown",
      "source": [
        "# Training the classification model on the Training set"
      ],
      "metadata": {
        "id": "LIXVZmCdzYS9"
      }
    },
    {
      "cell_type": "code",
      "source": [
        "classifier = LogisticRegression()\n",
        "classifier.fit(X_train, y_train)"
      ],
      "metadata": {
        "id": "pXEea8Y7zZOA",
        "colab": {
          "base_uri": "https://localhost:8080/"
        },
        "outputId": "bad843c5-2163-4aaf-90f7-61271f6b9833"
      },
      "execution_count": null,
      "outputs": [
        {
          "output_type": "stream",
          "name": "stderr",
          "text": [
            "/usr/local/lib/python3.7/dist-packages/sklearn/linear_model/_logistic.py:818: ConvergenceWarning: lbfgs failed to converge (status=1):\n",
            "STOP: TOTAL NO. of ITERATIONS REACHED LIMIT.\n",
            "\n",
            "Increase the number of iterations (max_iter) or scale the data as shown in:\n",
            "    https://scikit-learn.org/stable/modules/preprocessing.html\n",
            "Please also refer to the documentation for alternative solver options:\n",
            "    https://scikit-learn.org/stable/modules/linear_model.html#logistic-regression\n",
            "  extra_warning_msg=_LOGISTIC_SOLVER_CONVERGENCE_MSG,\n"
          ]
        },
        {
          "output_type": "execute_result",
          "data": {
            "text/plain": [
              "LogisticRegression()"
            ]
          },
          "metadata": {},
          "execution_count": 7
        }
      ]
    },
    {
      "cell_type": "markdown",
      "source": [
        "# Predicting the Test set results"
      ],
      "metadata": {
        "id": "wFaTV1yTza_F"
      }
    },
    {
      "cell_type": "code",
      "source": [
        "y_pred = classifier.predict(X_test)"
      ],
      "metadata": {
        "id": "MdAvTKDdzcrU"
      },
      "execution_count": null,
      "outputs": []
    },
    {
      "cell_type": "markdown",
      "source": [
        "# Making the Confusion Matrix"
      ],
      "metadata": {
        "id": "NrTEm0WRzf8X"
      }
    },
    {
      "cell_type": "code",
      "source": [
        "classes_num = 10\n",
        "cm = confusion_matrix(y_test, y_pred)\n",
        "print(cm)\n",
        "\n",
        "rcParams['figure.figsize'] = 12,8\n",
        "sns.set(font_scale = 1.2)\n",
        "sns.heatmap(cm, fmt='d', annot=True, xticklabels=[0,1,2,3,4,5,6,7,8,9], yticklabels=np.arange(classes_num))"
      ],
      "metadata": {
        "id": "8zqS-FvIzhrn",
        "colab": {
          "base_uri": "https://localhost:8080/",
          "height": 679
        },
        "outputId": "64b8647f-fc43-484c-da0e-7e4c4b585ac3"
      },
      "execution_count": null,
      "outputs": [
        {
          "output_type": "stream",
          "name": "stdout",
          "text": [
            "[[ 959    0    0    3    1    7    5    4    1    0]\n",
            " [   0 1111    4    2    0    2    3    2   11    0]\n",
            " [   6    9  926   16    9    4   13    6   39    4]\n",
            " [   4    1   18  917    1   22    4   11   25    7]\n",
            " [   1    1    7    3  914    0   10    4   10   32]\n",
            " [  10    2    3   34    7  783   14    6   29    4]\n",
            " [   9    3    8    2    7   14  912    2    1    0]\n",
            " [   1    8   24    5    7    1    0  950    3   29]\n",
            " [   9   11    8   23    7   25   12    7  861   11]\n",
            " [   9    8    0   11   24    6    0   19    7  925]]\n"
          ]
        },
        {
          "output_type": "execute_result",
          "data": {
            "text/plain": [
              "<matplotlib.axes._subplots.AxesSubplot at 0x7f02ff935390>"
            ]
          },
          "metadata": {},
          "execution_count": 9
        },
        {
          "output_type": "display_data",
          "data": {
            "text/plain": [
              "<Figure size 864x576 with 2 Axes>"
            ],
            "image/png": "[encoded data removed]"
          },
          "metadata": {}
        }
      ]
    },
    {
      "cell_type": "markdown",
      "source": [
        "# Calculate Precision, Recall, F1_score and Accuracy"
      ],
      "metadata": {
        "id": "bB0SfxUHzjN-"
      }
    },
    {
      "cell_type": "code",
      "source": [
        "average_methods = ['micro','macro','weighted']\n",
        "for method in average_methods:\n",
        "  Precision,Recall,F1_score,_ = precision_recall_fscore_support(y_test, y_pred, average=method)\n",
        "  Accuracy = accuracy_score(y_test, y_pred)\n",
        "  print(f'{method}:')\n",
        "  print(f'Precision: {round(Precision*100,2)}%\\nRecall: {round(Recall*100,2)}%\\nF1_score: {round(F1_score*100,2)}%\\nAccuracy: {round(Accuracy*100,2)}%\\n')"
      ],
      "metadata": {
        "id": "Qegs5eOBzjxE",
        "colab": {
          "base_uri": "https://localhost:8080/"
        },
        "outputId": "fbb21683-4b43-428b-cfbc-343496774ab6"
      },
      "execution_count": null,
      "outputs": [
        {
          "output_type": "stream",
          "name": "stdout",
          "text": [
            "micro:\n",
            "Precision: 92.58%\n",
            "Recall: 92.58%\n",
            "F1_score: 92.58%\n",
            "Accuracy: 92.58%\n",
            "\n",
            "macro:\n",
            "Precision: 92.5%\n",
            "Recall: 92.48%\n",
            "F1_score: 92.48%\n",
            "Accuracy: 92.58%\n",
            "\n",
            "weighted:\n",
            "Precision: 92.57%\n",
            "Recall: 92.58%\n",
            "F1_score: 92.57%\n",
            "Accuracy: 92.58%\n",
            "\n"
          ]
        }
      ]
    }
  ]
}