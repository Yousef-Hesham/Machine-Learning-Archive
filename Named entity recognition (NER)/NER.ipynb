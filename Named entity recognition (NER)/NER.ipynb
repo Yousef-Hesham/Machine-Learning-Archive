{
  "nbformat": 4,
  "nbformat_minor": 0,
  "metadata": {
    "colab": {
      "provenance": []
    },
    "kernelspec": {
      "name": "python3",
      "display_name": "Python 3"
    },
    "language_info": {
      "name": "python"
    }
  },
  "cells": [
    {
      "cell_type": "markdown",
      "source": [
        "## Code Implementation of Rule-Based Approaches for NER"
      ],
      "metadata": {
        "id": "6oTRS0aRLRtn"
      }
    },
    {
      "cell_type": "code",
      "execution_count": 1,
      "metadata": {
        "colab": {
          "base_uri": "https://localhost:8080/"
        },
        "id": "_8i27YDrLJP1",
        "outputId": "6ff64e58-92bc-4ef7-b410-0ff4a47ba2a8"
      },
      "outputs": [
        {
          "output_type": "stream",
          "name": "stdout",
          "text": [
            "Entity: Ahmed, Type: PERSON\n",
            "Entity: Mohamed, Type: PERSON\n",
            "Entity: 01/15/2023, Type: DATE\n"
          ]
        }
      ],
      "source": [
        "import re\n",
        "\n",
        "def rule_based_ner(text):\n",
        "    entities = []\n",
        "\n",
        "    # Rule for identifying person names\n",
        "    person_pattern = re.compile(r'\\b(?:Mr\\.|Mrs\\.|Ms\\.|Dr\\.) ([A-Z][a-z]+)\\b')\n",
        "    persons = re.findall(person_pattern, text)\n",
        "    entities.extend([(person, 'PERSON') for person in persons])\n",
        "\n",
        "    # Rule for identifying dates\n",
        "    date_pattern = re.compile(r'\\b(?:\\d{1,2}/\\d{1,2}/\\d{4}|\\w+\\s\\d{1,2},\\s\\d{4})\\b')\n",
        "    dates = re.findall(date_pattern, text)\n",
        "    entities.extend([(date, 'DATE') for date in dates])\n",
        "\n",
        "    return entities\n",
        "\n",
        "# Example text\n",
        "example_text = \"Mr. Ahmed and Mr. Mohamed visited Cairo on 01/15/2023.\"\n",
        "\n",
        "# Apply the rule-based NER\n",
        "ner_results = rule_based_ner(example_text)\n",
        "\n",
        "# Display the identified entities\n",
        "for entity, entity_type in ner_results:\n",
        "    print(f\"Entity: {entity}, Type: {entity_type}\")"
      ]
    },
    {
      "cell_type": "markdown",
      "source": [
        "## Code Implementation of NER With Decision Trees"
      ],
      "metadata": {
        "id": "RVq5UC-kLZV0"
      }
    },
    {
      "cell_type": "code",
      "source": [
        "import spacy\n",
        "from sklearn.tree import DecisionTreeClassifier\n",
        "from sklearn.feature_extraction.text import CountVectorizer\n",
        "from sklearn.pipeline import Pipeline\n",
        "from sklearn.model_selection import train_test_split\n",
        "from sklearn.metrics import classification_report\n",
        "import nltk\n",
        "from nltk.corpus import conll2002\n",
        "\n",
        "# Download the NLTK dataset (if not already downloaded)\n",
        "nltk.download('conll2002')\n",
        "\n",
        "# Load spaCy's English language model\n",
        "nlp = spacy.load(\"en_core_web_sm\")\n",
        "\n",
        "# Load the CoNLL-2002 NER dataset from NLTK\n",
        "data = conll2002.iob_sents('esp.train')\n",
        "\n",
        "# Convert the CoNLL-2002 format to a list of (word, label) tuples for each token in each sentence\n",
        "corpus = []\n",
        "for sentence in data:\n",
        "    for token, pos, label in sentence:\n",
        "        # Use each word as a separate training example, maintaining the entity label\n",
        "        corpus.append((token, label))\n",
        "\n",
        "# Extract features and labels\n",
        "X, y = zip(*corpus)\n",
        "\n",
        "# Split the dataset into training and testing sets\n",
        "X_train, X_test, y_train, y_test = train_test_split(X, y, test_size=0.2, random_state=42)\n",
        "\n",
        "# Create a pipeline with CountVectorizer and DecisionTreeClassifier\n",
        "pipeline = Pipeline([\n",
        "    ('vectorizer', CountVectorizer()),\n",
        "    ('classifier', DecisionTreeClassifier(random_state=42))\n",
        "])\n",
        "\n",
        "# Train the decision tree model\n",
        "pipeline.fit(X_train, y_train)\n",
        "\n",
        "# Test the model\n",
        "y_pred = pipeline.predict(X_test)\n",
        "\n",
        "# Evaluate the model\n",
        "print(\"Classification Report:\")\n",
        "print(classification_report(y_test, y_pred))\n",
        "\n",
        "# Example usage on a new text\n",
        "new_text = \"Microsoft is launching a new product\"\n",
        "predicted_entities = pipeline.predict(new_text.split())\n",
        "print(f\"Predicted Entities for '{new_text}': {predicted_entities}\")"
      ],
      "metadata": {
        "colab": {
          "base_uri": "https://localhost:8080/"
        },
        "id": "Wtp-NgONLbTJ",
        "outputId": "08644043-732b-4ea3-f5e5-5043bfd13481"
      },
      "execution_count": 2,
      "outputs": [
        {
          "output_type": "stream",
          "name": "stderr",
          "text": [
            "[nltk_data] Downloading package conll2002 to /root/nltk_data...\n",
            "[nltk_data]   Unzipping corpora/conll2002.zip.\n"
          ]
        },
        {
          "output_type": "stream",
          "name": "stdout",
          "text": [
            "Classification Report:\n",
            "              precision    recall  f1-score   support\n",
            "\n",
            "       B-LOC       0.68      0.74      0.71       983\n",
            "      B-MISC       0.60      0.30      0.40       475\n",
            "       B-ORG       0.81      0.74      0.77      1492\n",
            "       B-PER       0.69      0.63      0.66       828\n",
            "       I-LOC       0.63      0.24      0.34       385\n",
            "      I-MISC       0.42      0.13      0.20       645\n",
            "       I-ORG       0.55      0.17      0.26      1009\n",
            "       I-PER       0.65      0.38      0.48       790\n",
            "           O       0.95      0.99      0.97     46336\n",
            "\n",
            "    accuracy                           0.93     52943\n",
            "   macro avg       0.66      0.48      0.53     52943\n",
            "weighted avg       0.91      0.93      0.91     52943\n",
            "\n",
            "Predicted Entities for 'Microsoft is launching a new product': ['B-ORG' 'O' 'O' 'O' 'B-MISC' 'O']\n"
          ]
        }
      ]
    },
    {
      "cell_type": "code",
      "source": [],
      "metadata": {
        "id": "GXn4GXW8LeOC"
      },
      "execution_count": null,
      "outputs": []
    }
  ]
}