{
  "nbformat": 4,
  "nbformat_minor": 0,
  "metadata": {
    "colab": {
      "provenance": [],
      "collapsed_sections": []
    },
    "kernelspec": {
      "name": "python3",
      "display_name": "Python 3"
    },
    "language_info": {
      "name": "python"
    }
  },
  "cells": [
    {
      "cell_type": "markdown",
      "source": [
        "# Importing the libraries"
      ],
      "metadata": {
        "id": "5QS0sCG8yNOK"
      }
    },
    {
      "cell_type": "code",
      "source": [
        "import numpy as np\n",
        "import matplotlib.pyplot as plt\n",
        "from keras.datasets import mnist\n",
        "from sklearn.tree import DecisionTreeClassifier\n",
        "from sklearn.metrics import confusion_matrix\n",
        "from sklearn.metrics import precision_recall_fscore_support\n",
        "from sklearn.metrics import log_loss\n",
        "from sklearn.metrics import accuracy_score\n",
        "from sklearn.preprocessing import MinMaxScaler, StandardScaler\n",
        "import seaborn as sns\n",
        "from matplotlib import rcParams"
      ],
      "metadata": {
        "id": "DDZf_c7jyCgg"
      },
      "execution_count": null,
      "outputs": []
    },
    {
      "cell_type": "markdown",
      "source": [
        "# Importing the dataset"
      ],
      "metadata": {
        "id": "ordw7VrryH0G"
      }
    },
    {
      "cell_type": "code",
      "source": [
        "(X_train, y_train), (X_test, y_test) = mnist.load_data()"
      ],
      "metadata": {
        "id": "jTUgSn9oyWeW"
      },
      "execution_count": null,
      "outputs": []
    },
    {
      "cell_type": "markdown",
      "source": [
        "# Data reshaping"
      ],
      "metadata": {
        "id": "zCColqdyy5oN"
      }
    },
    {
      "cell_type": "code",
      "source": [
        "X_train = X_train.reshape(X_train.shape[0],-1) / 255.0\n",
        "X_test = X_test.reshape(X_test.shape[0],-1) / 255.0"
      ],
      "metadata": {
        "id": "zZmisy1yy9CJ"
      },
      "execution_count": null,
      "outputs": []
    },
    {
      "cell_type": "markdown",
      "source": [
        "# Training the classification model on the Training set"
      ],
      "metadata": {
        "id": "LIXVZmCdzYS9"
      }
    },
    {
      "cell_type": "code",
      "source": [
        "classifier = DecisionTreeClassifier(criterion='gini')\n",
        "classifier.fit(X_train, y_train)"
      ],
      "metadata": {
        "id": "pXEea8Y7zZOA",
        "colab": {
          "base_uri": "https://localhost:8080/"
        },
        "outputId": "48329bba-73ce-460c-9113-7abacdaccb34"
      },
      "execution_count": null,
      "outputs": [
        {
          "output_type": "execute_result",
          "data": {
            "text/plain": [
              "DecisionTreeClassifier()"
            ]
          },
          "metadata": {},
          "execution_count": 59
        }
      ]
    },
    {
      "cell_type": "markdown",
      "source": [
        "# Evaluation"
      ],
      "metadata": {
        "id": "0kuVOaoa3dNe"
      }
    },
    {
      "cell_type": "code",
      "source": [
        "y_pred = classifier.predict(X_test)\n",
        "average_methods = ['micro','macro','weighted']\n",
        "for method in average_methods:\n",
        "  Precision,Recall,F1_score,_ = precision_recall_fscore_support(y_test, y_pred, average=method)\n",
        "  Accuracy = accuracy_score(y_test, y_pred)\n",
        "  print(f'{method}:')\n",
        "  print(f'Precision: {round(Precision*100,2)}%\\nRecall: {round(Recall*100,2)}%\\nF1_score: {round(F1_score*100,2)}%\\nAccuracy: {round(Accuracy*100,2)}%\\n')"
      ],
      "metadata": {
        "colab": {
          "base_uri": "https://localhost:8080/"
        },
        "id": "-eu_lVnZ3hf4",
        "outputId": "87a8d9de-9646-4ca8-b9b4-0935a134ee17"
      },
      "execution_count": null,
      "outputs": [
        {
          "output_type": "stream",
          "name": "stdout",
          "text": [
            "micro:\n",
            "Precision: 87.77%\n",
            "Recall: 87.77%\n",
            "F1_score: 87.77%\n",
            "Accuracy: 87.77%\n",
            "\n",
            "macro:\n",
            "Precision: 87.62%\n",
            "Recall: 87.62%\n",
            "F1_score: 87.61%\n",
            "Accuracy: 87.77%\n",
            "\n",
            "weighted:\n",
            "Precision: 87.78%\n",
            "Recall: 87.77%\n",
            "F1_score: 87.77%\n",
            "Accuracy: 87.77%\n",
            "\n"
          ]
        }
      ]
    }
  ]
}