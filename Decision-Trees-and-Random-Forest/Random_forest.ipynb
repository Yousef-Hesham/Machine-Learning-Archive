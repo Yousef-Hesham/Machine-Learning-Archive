{
  "nbformat": 4,
  "nbformat_minor": 0,
  "metadata": {
    "colab": {
      "provenance": [],
      "collapsed_sections": []
    },
    "kernelspec": {
      "name": "python3",
      "display_name": "Python 3"
    },
    "language_info": {
      "name": "python"
    }
  },
  "cells": [
    {
      "cell_type": "markdown",
      "source": [
        "# Importing the libraries"
      ],
      "metadata": {
        "id": "5QS0sCG8yNOK"
      }
    },
    {
      "cell_type": "code",
      "source": [
        "import numpy as np\n",
        "import matplotlib.pyplot as plt\n",
        "from keras.datasets import mnist\n",
        "from sklearn.tree import DecisionTreeClassifier\n",
        "from sklearn.ensemble import RandomForestClassifier, BaggingClassifier\n",
        "from sklearn.metrics import confusion_matrix\n",
        "from sklearn.metrics import precision_recall_fscore_support\n",
        "from sklearn.metrics import accuracy_score\n",
        "import seaborn as sns\n",
        "from matplotlib import rcParams"
      ],
      "metadata": {
        "id": "DDZf_c7jyCgg"
      },
      "execution_count": null,
      "outputs": []
    },
    {
      "cell_type": "markdown",
      "source": [
        "# Importing the dataset"
      ],
      "metadata": {
        "id": "ordw7VrryH0G"
      }
    },
    {
      "cell_type": "code",
      "source": [
        "(X_train, y_train), (X_test, y_test) = mnist.load_data()"
      ],
      "metadata": {
        "id": "jTUgSn9oyWeW",
        "colab": {
          "base_uri": "https://localhost:8080/"
        },
        "outputId": "da0fb379-ff0e-46ae-84c0-25b308bff416"
      },
      "execution_count": null,
      "outputs": [
        {
          "output_type": "stream",
          "name": "stdout",
          "text": [
            "Downloading data from https://storage.googleapis.com/tensorflow/tf-keras-datasets/mnist.npz\n",
            "11493376/11490434 [==============================] - 0s 0us/step\n",
            "11501568/11490434 [==============================] - 0s 0us/step\n"
          ]
        }
      ]
    },
    {
      "cell_type": "markdown",
      "source": [
        "# Data reshaping"
      ],
      "metadata": {
        "id": "zCColqdyy5oN"
      }
    },
    {
      "cell_type": "code",
      "source": [
        "X_train = X_train.reshape(X_train.shape[0],-1) / 255.0\n",
        "X_test = X_test.reshape(X_test.shape[0],-1) / 255.0"
      ],
      "metadata": {
        "id": "zZmisy1yy9CJ"
      },
      "execution_count": null,
      "outputs": []
    },
    {
      "cell_type": "markdown",
      "source": [
        "# Training the classification model on the Training set"
      ],
      "metadata": {
        "id": "LIXVZmCdzYS9"
      }
    },
    {
      "cell_type": "code",
      "source": [
        "classifier = RandomForestClassifier(n_estimators = 100)\n",
        "classifier.fit(X_train, y_train)"
      ],
      "metadata": {
        "id": "pXEea8Y7zZOA",
        "colab": {
          "base_uri": "https://localhost:8080/"
        },
        "outputId": "a96012b5-e581-4a32-9963-685b5feca799"
      },
      "execution_count": null,
      "outputs": [
        {
          "output_type": "execute_result",
          "data": {
            "text/plain": [
              "RandomForestClassifier()"
            ]
          },
          "metadata": {},
          "execution_count": 7
        }
      ]
    },
    {
      "cell_type": "code",
      "source": [
        "y_pred = classifier.predict(X_test)\n",
        "average_methods = ['micro','macro','weighted']\n",
        "for method in average_methods:\n",
        "  Precision,Recall,F1_score,_ = precision_recall_fscore_support(y_test, y_pred, average=method)\n",
        "  Accuracy = accuracy_score(y_test, y_pred)\n",
        "  print(f'{method}:')\n",
        "  print(f'Precision: {round(Precision*100,2)}%\\nRecall: {round(Recall*100,2)}%\\nF1_score: {round(F1_score*100,2)}%\\nAccuracy: {round(Accuracy*100,2)}%\\n')"
      ],
      "metadata": {
        "colab": {
          "base_uri": "https://localhost:8080/"
        },
        "id": "EpQfl-q619Rg",
        "outputId": "89586cb6-de5e-469b-f22c-cca8adedf3b8"
      },
      "execution_count": null,
      "outputs": [
        {
          "output_type": "stream",
          "name": "stdout",
          "text": [
            "micro:\n",
            "Precision: 97.04%\n",
            "Recall: 97.04%\n",
            "F1_score: 97.04%\n",
            "Accuracy: 97.04%\n",
            "\n",
            "macro:\n",
            "Precision: 97.03%\n",
            "Recall: 97.02%\n",
            "F1_score: 97.02%\n",
            "Accuracy: 97.04%\n",
            "\n",
            "weighted:\n",
            "Precision: 97.04%\n",
            "Recall: 97.04%\n",
            "F1_score: 97.04%\n",
            "Accuracy: 97.04%\n",
            "\n"
          ]
        }
      ]
    }
  ]
}
