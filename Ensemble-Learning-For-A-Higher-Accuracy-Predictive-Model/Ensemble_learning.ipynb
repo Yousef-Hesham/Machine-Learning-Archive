{
  "nbformat": 4,
  "nbformat_minor": 0,
  "metadata": {
    "colab": {
      "provenance": [],
      "collapsed_sections": [
        "mupCO-KT82yO",
        "LIXVZmCdzYS9",
        "EypBwbbM8KPN"
      ]
    },
    "kernelspec": {
      "name": "python3",
      "display_name": "Python 3"
    },
    "language_info": {
      "name": "python"
    }
  },
  "cells": [
    {
      "cell_type": "markdown",
      "source": [
        "# Importing the libraries"
      ],
      "metadata": {
        "id": "5QS0sCG8yNOK"
      }
    },
    {
      "cell_type": "code",
      "source": [
        "import numpy as np\n",
        "import pandas as pd\n",
        "from keras.datasets import mnist\n",
        "from sklearn.linear_model import LogisticRegression\n",
        "from sklearn.neighbors import KNeighborsClassifier\n",
        "from sklearn.svm import SVC\n",
        "from sklearn.tree import DecisionTreeClassifier\n",
        "from sklearn.ensemble import AdaBoostClassifier, BaggingClassifier, StackingClassifier\n",
        "from sklearn.metrics import classification_report, precision_recall_fscore_support"
      ],
      "metadata": {
        "id": "DDZf_c7jyCgg"
      },
      "execution_count": null,
      "outputs": []
    },
    {
      "cell_type": "markdown",
      "source": [
        "# Preprocessing"
      ],
      "metadata": {
        "id": "mupCO-KT82yO"
      }
    },
    {
      "cell_type": "markdown",
      "source": [
        "## Importing the dataset"
      ],
      "metadata": {
        "id": "ordw7VrryH0G"
      }
    },
    {
      "cell_type": "code",
      "source": [
        "(X_train, y_train), (X_test, y_test) = mnist.load_data()"
      ],
      "metadata": {
        "id": "jTUgSn9oyWeW",
        "colab": {
          "base_uri": "https://localhost:8080/"
        },
        "outputId": "0dc82038-13b6-4879-9789-3de7419b8b23"
      },
      "execution_count": null,
      "outputs": [
        {
          "output_type": "stream",
          "name": "stdout",
          "text": [
            "Downloading data from https://storage.googleapis.com/tensorflow/tf-keras-datasets/mnist.npz\n",
            "11493376/11490434 [==============================] - 0s 0us/step\n",
            "11501568/11490434 [==============================] - 0s 0us/step\n"
          ]
        }
      ]
    },
    {
      "cell_type": "markdown",
      "source": [
        "## Data reshaping"
      ],
      "metadata": {
        "id": "zCColqdyy5oN"
      }
    },
    {
      "cell_type": "code",
      "source": [
        "X_train = X_train.reshape(X_train.shape[0],-1)\n",
        "X_test = X_test.reshape(X_test.shape[0],-1)"
      ],
      "metadata": {
        "id": "zZmisy1yy9CJ"
      },
      "execution_count": null,
      "outputs": []
    },
    {
      "cell_type": "markdown",
      "source": [
        "## Data normalization"
      ],
      "metadata": {
        "id": "VnjWBiUn-MKv"
      }
    },
    {
      "cell_type": "code",
      "source": [
        "X_train = X_train / 255.0\n",
        "X_test = X_test / 255.0"
      ],
      "metadata": {
        "id": "n_c_eCc3-OX7"
      },
      "execution_count": null,
      "outputs": []
    },
    {
      "cell_type": "markdown",
      "source": [
        "## Generating sample dataset"
      ],
      "metadata": {
        "id": "vcV6wls5_vEQ"
      }
    },
    {
      "cell_type": "code",
      "source": [
        "classes = dict()\n",
        "for i in range(len(np.unique(y_train))):\n",
        "  classes[i] = np.where(y_train == i)[0]\n",
        "X_train_sample = []\n",
        "y_train_sample = []\n",
        "for key in classes:\n",
        "  length = round(len(classes[key]) / 10)\n",
        "  for i,index in enumerate(classes[key]):\n",
        "    if i >= length:\n",
        "      break\n",
        "    else:\n",
        "      X_train_sample.append(X_train[index])\n",
        "      y_train_sample.append(y_train[index])"
      ],
      "metadata": {
        "id": "d-aEmmrV_y0i"
      },
      "execution_count": null,
      "outputs": []
    },
    {
      "cell_type": "markdown",
      "source": [
        "# Training the classification model on the Training set"
      ],
      "metadata": {
        "id": "LIXVZmCdzYS9"
      }
    },
    {
      "cell_type": "markdown",
      "source": [
        "## Default Decision Tree"
      ],
      "metadata": {
        "id": "_3FuWJaw7UEZ"
      }
    },
    {
      "cell_type": "code",
      "source": [
        "classifier_DT = DecisionTreeClassifier()\n",
        "classifier_DT.fit(X_train_sample, y_train_sample)"
      ],
      "metadata": {
        "colab": {
          "base_uri": "https://localhost:8080/"
        },
        "id": "Ez7HoL3n7W5v",
        "outputId": "7573ed99-48c9-4e3f-f06a-baa6f50b0cf7"
      },
      "execution_count": null,
      "outputs": [
        {
          "output_type": "execute_result",
          "data": {
            "text/plain": [
              "DecisionTreeClassifier()"
            ]
          },
          "metadata": {},
          "execution_count": 6
        }
      ]
    },
    {
      "cell_type": "markdown",
      "source": [
        "## Default Sigmoid SVC "
      ],
      "metadata": {
        "id": "7xp5OKcv7ZIz"
      }
    },
    {
      "cell_type": "code",
      "source": [
        "classifier_SVC = SVC(kernel = 'sigmoid')\n",
        "classifier_SVC.fit(X_train_sample, y_train_sample)"
      ],
      "metadata": {
        "colab": {
          "base_uri": "https://localhost:8080/"
        },
        "id": "ipwu2htd7fIK",
        "outputId": "997666c2-ab3a-4e93-c7e2-c325806ab07d"
      },
      "execution_count": null,
      "outputs": [
        {
          "output_type": "execute_result",
          "data": {
            "text/plain": [
              "SVC(kernel='sigmoid')"
            ]
          },
          "metadata": {},
          "execution_count": 7
        }
      ]
    },
    {
      "cell_type": "markdown",
      "source": [
        "## Default Logistic Regression"
      ],
      "metadata": {
        "id": "494YaB4W7iHp"
      }
    },
    {
      "cell_type": "code",
      "source": [
        "classifier_LR = LogisticRegression()\n",
        "classifier_LR.fit(X_train_sample, y_train_sample)"
      ],
      "metadata": {
        "colab": {
          "base_uri": "https://localhost:8080/"
        },
        "id": "TnWS_RHQ7lV2",
        "outputId": "8eb33f84-2cc1-4b69-e0d0-6f2759afcfdc"
      },
      "execution_count": null,
      "outputs": [
        {
          "output_type": "stream",
          "name": "stderr",
          "text": [
            "/usr/local/lib/python3.7/dist-packages/sklearn/linear_model/_logistic.py:818: ConvergenceWarning: lbfgs failed to converge (status=1):\n",
            "STOP: TOTAL NO. of ITERATIONS REACHED LIMIT.\n",
            "\n",
            "Increase the number of iterations (max_iter) or scale the data as shown in:\n",
            "    https://scikit-learn.org/stable/modules/preprocessing.html\n",
            "Please also refer to the documentation for alternative solver options:\n",
            "    https://scikit-learn.org/stable/modules/linear_model.html#logistic-regression\n",
            "  extra_warning_msg=_LOGISTIC_SOLVER_CONVERGENCE_MSG,\n"
          ]
        },
        {
          "output_type": "execute_result",
          "data": {
            "text/plain": [
              "LogisticRegression()"
            ]
          },
          "metadata": {},
          "execution_count": 8
        }
      ]
    },
    {
      "cell_type": "markdown",
      "source": [
        "## Default KNN"
      ],
      "metadata": {
        "id": "ksWMv5yl7n3Y"
      }
    },
    {
      "cell_type": "code",
      "source": [
        "classifier_KNN = KNeighborsClassifier(n_neighbors = 245)\n",
        "classifier_KNN.fit(X_train_sample, y_train_sample)"
      ],
      "metadata": {
        "colab": {
          "base_uri": "https://localhost:8080/"
        },
        "id": "wAXnILf77pjp",
        "outputId": "bfcedacc-9782-46f2-818c-b7e2d95d9db4"
      },
      "execution_count": null,
      "outputs": [
        {
          "output_type": "execute_result",
          "data": {
            "text/plain": [
              "KNeighborsClassifier(n_neighbors=245)"
            ]
          },
          "metadata": {},
          "execution_count": 9
        }
      ]
    },
    {
      "cell_type": "markdown",
      "source": [
        "## Bagging"
      ],
      "metadata": {
        "id": "Pps5TFxY7sGW"
      }
    },
    {
      "cell_type": "code",
      "source": [
        "classifier_bag = BaggingClassifier(base_estimator = DecisionTreeClassifier(), n_estimators=10)\n",
        "classifier_bag.fit(X_train_sample, y_train_sample)"
      ],
      "metadata": {
        "colab": {
          "base_uri": "https://localhost:8080/"
        },
        "id": "sXkm3M267tsB",
        "outputId": "0e0a7526-d5ba-4886-e08e-aa464e1bf7a5"
      },
      "execution_count": null,
      "outputs": [
        {
          "output_type": "execute_result",
          "data": {
            "text/plain": [
              "BaggingClassifier(base_estimator=DecisionTreeClassifier())"
            ]
          },
          "metadata": {},
          "execution_count": 10
        }
      ]
    },
    {
      "cell_type": "markdown",
      "source": [
        "## Stacking"
      ],
      "metadata": {
        "id": "eRkCmKEF7v06"
      }
    },
    {
      "cell_type": "code",
      "source": [
        "estimators = [('DT', DecisionTreeClassifier()), ('SVC', SVC(kernel = 'sigmoid')),('LR',LogisticRegression()),('KNN',KNeighborsClassifier(n_neighbors = 245))]\n",
        "classifier_stack = StackingClassifier(estimators = estimators, final_estimator=LogisticRegression(), cv=10)\n",
        "classifier_stack.fit(X_train_sample, y_train_sample)"
      ],
      "metadata": {
        "id": "ii9a9tyN7xX_"
      },
      "execution_count": null,
      "outputs": []
    },
    {
      "cell_type": "markdown",
      "source": [
        "## Adaptive Boosting"
      ],
      "metadata": {
        "id": "YSvtIhTN70mP"
      }
    },
    {
      "cell_type": "code",
      "source": [
        "classifier_Ada = AdaBoostClassifier(base_estimator = DecisionTreeClassifier(), n_estimators=10)\n",
        "classifier_Ada.fit(X_train_sample, y_train_sample)"
      ],
      "metadata": {
        "id": "pXEea8Y7zZOA",
        "colab": {
          "base_uri": "https://localhost:8080/"
        },
        "outputId": "c03dcf50-cc05-45d3-bca8-2b829598ea2c"
      },
      "execution_count": null,
      "outputs": [
        {
          "output_type": "execute_result",
          "data": {
            "text/plain": [
              "AdaBoostClassifier(base_estimator=DecisionTreeClassifier(), n_estimators=10)"
            ]
          },
          "metadata": {},
          "execution_count": 12
        }
      ]
    },
    {
      "cell_type": "markdown",
      "source": [],
      "metadata": {
        "id": "d0U1kwve8BCy"
      }
    },
    {
      "cell_type": "markdown",
      "source": [
        "# Models evaluation"
      ],
      "metadata": {
        "id": "EypBwbbM8KPN"
      }
    },
    {
      "cell_type": "markdown",
      "source": [
        "## Default Decision Tree"
      ],
      "metadata": {
        "id": "yIid0E_z8KPS"
      }
    },
    {
      "cell_type": "code",
      "source": [
        "y_pred_DT = classifier_DT.predict(X_test)\n",
        "score_DT = round(precision_recall_fscore_support(y_test, y_pred_DT, average = 'weighted')[2]*100,2)\n",
        "print(f\"Decision Tree F1-score: {score_DT}%\")"
      ],
      "metadata": {
        "colab": {
          "base_uri": "https://localhost:8080/"
        },
        "id": "-CZkJOdw8KPS",
        "outputId": "c4201b3a-33ab-4ce3-d227-398d6c1bcbc7"
      },
      "execution_count": null,
      "outputs": [
        {
          "output_type": "stream",
          "name": "stdout",
          "text": [
            "Decision Tree F1-score: 77.86%\n"
          ]
        }
      ]
    },
    {
      "cell_type": "markdown",
      "source": [
        "## Default Sigmoid SVC "
      ],
      "metadata": {
        "id": "4r50qVnx8KPS"
      }
    },
    {
      "cell_type": "code",
      "source": [
        "y_pred_SVC = classifier_SVC.predict(X_test)\n",
        "score_SVC = round(precision_recall_fscore_support(y_test, y_pred_SVC, average = 'weighted')[2]*100,2)\n",
        "print(f\"Sigmoid SVC F1-score: {score_SVC}%\")"
      ],
      "metadata": {
        "colab": {
          "base_uri": "https://localhost:8080/"
        },
        "id": "IdmGaAJu8KPS",
        "outputId": "619ea2b1-c595-4d64-827d-8694706b54a2"
      },
      "execution_count": null,
      "outputs": [
        {
          "output_type": "stream",
          "name": "stdout",
          "text": [
            "Sigmoid SVC F1-score: 84.08%\n"
          ]
        }
      ]
    },
    {
      "cell_type": "markdown",
      "source": [
        "## Default Logistic Regression"
      ],
      "metadata": {
        "id": "uJZevox68KPS"
      }
    },
    {
      "cell_type": "code",
      "source": [
        "y_pred_LR = classifier_LR.predict(X_test)\n",
        "score_LR = round(precision_recall_fscore_support(y_test, y_pred_LR, average = 'weighted')[2]*100,2)\n",
        "print(f\"Logistic regression F1-score: {score_LR}%\")"
      ],
      "metadata": {
        "colab": {
          "base_uri": "https://localhost:8080/"
        },
        "id": "a4kRrD498KPS",
        "outputId": "2a84639e-6cec-4fba-a50b-a520d0be1a8b"
      },
      "execution_count": null,
      "outputs": [
        {
          "output_type": "stream",
          "name": "stdout",
          "text": [
            "Logistic regression F1-score: 89.69%\n"
          ]
        }
      ]
    },
    {
      "cell_type": "markdown",
      "source": [
        "## Default KNN"
      ],
      "metadata": {
        "id": "nFgi9CDM8KPT"
      }
    },
    {
      "cell_type": "code",
      "source": [
        "y_pred_KNN = classifier_KNN.predict(X_test)\n",
        "score_KNN = round(precision_recall_fscore_support(y_test, y_pred_KNN, average = 'weighted')[2]*100,2)\n",
        "print(f\"KNN F1-score: {score_KNN}%\")"
      ],
      "metadata": {
        "colab": {
          "base_uri": "https://localhost:8080/"
        },
        "id": "L_VmYANt8KPT",
        "outputId": "e3d093fa-015b-4237-feed-76511c0c13e6"
      },
      "execution_count": null,
      "outputs": [
        {
          "output_type": "stream",
          "name": "stdout",
          "text": [
            "KNN F1-score: 80.6%\n"
          ]
        }
      ]
    },
    {
      "cell_type": "markdown",
      "source": [
        "## Bagging"
      ],
      "metadata": {
        "id": "kUuMC0Ko8KPT"
      }
    },
    {
      "cell_type": "code",
      "source": [
        "y_pred_bag = classifier_bag.predict(X_test)\n",
        "score_bag = round(precision_recall_fscore_support(y_test, y_pred_bag, average = 'weighted')[2]*100,2)\n",
        "print(f\"Bagging F1-score: {score_bag}%\")"
      ],
      "metadata": {
        "colab": {
          "base_uri": "https://localhost:8080/"
        },
        "id": "pKTdAj7e8KPT",
        "outputId": "7099f88d-f8f2-44af-d53e-b0a08c747c4f"
      },
      "execution_count": null,
      "outputs": [
        {
          "output_type": "stream",
          "name": "stdout",
          "text": [
            "Bagging F1-score: 89.55%\n"
          ]
        }
      ]
    },
    {
      "cell_type": "markdown",
      "source": [
        "## Stacking"
      ],
      "metadata": {
        "id": "tu9zhbon8KPT"
      }
    },
    {
      "cell_type": "code",
      "source": [
        "y_pred_stack = classifier_stack.predict(X_test)\n",
        "score_stack = round(precision_recall_fscore_support(y_test, y_pred_stack, average = 'weighted')[2]*100,2)\n",
        "print(f\"Stacking F1-score: {score_stack}%\")"
      ],
      "metadata": {
        "colab": {
          "base_uri": "https://localhost:8080/"
        },
        "id": "5S0AXUQT8KPT",
        "outputId": "32e4719f-d609-4baf-99fa-f3a9e854b405"
      },
      "execution_count": null,
      "outputs": [
        {
          "output_type": "stream",
          "name": "stdout",
          "text": [
            "Stacking F1-score: 91.27%\n"
          ]
        }
      ]
    },
    {
      "cell_type": "markdown",
      "source": [
        "## Adaptive Boosting"
      ],
      "metadata": {
        "id": "To4WtKIi8KPT"
      }
    },
    {
      "cell_type": "code",
      "source": [
        "y_pred_Ada = classifier_Ada.predict(X_test)\n",
        "score_Ada = round(precision_recall_fscore_support(y_test, y_pred_Ada, average = 'weighted')[2]*100,2)\n",
        "print(f\"AdaBoost F1-score: {score_Ada}%\")"
      ],
      "metadata": {
        "colab": {
          "base_uri": "https://localhost:8080/"
        },
        "id": "VvkcGIB-8KPT",
        "outputId": "75779795-6d99-4c5a-c7c0-04c221c70652"
      },
      "execution_count": null,
      "outputs": [
        {
          "output_type": "stream",
          "name": "stdout",
          "text": [
            "AdaBoost F1-score: 78.35%\n"
          ]
        }
      ]
    },
    {
      "cell_type": "markdown",
      "source": [
        "## Results comparison"
      ],
      "metadata": {
        "id": "Z7duQEc09Ysa"
      }
    },
    {
      "cell_type": "code",
      "source": [
        "f1_scores = {'Decision Tree': str(score_DT)+'%',\n",
        "           'Sigmoid SVC': str(score_SVC)+'%',\n",
        "           'Logistic regression': str(score_LR)+'%',\n",
        "           'KNN': str(score_KNN)+'%',\n",
        "           'Bagging': str(score_bag)+'%',\n",
        "           'Stacking': str(score_stack)+'%',\n",
        "           'AdaBoost': str(score_Ada)+'%'}\n",
        "df = pd.DataFrame(data=f1_scores, index=['F1-scores'])\n",
        "df"
      ],
      "metadata": {
        "colab": {
          "base_uri": "https://localhost:8080/",
          "height": 159
        },
        "id": "-NQNwZAz9d_L",
        "outputId": "064a3c9a-ee99-455f-d0b4-c6cf78570a96"
      },
      "execution_count": null,
      "outputs": [
        {
          "output_type": "execute_result",
          "data": {
            "text/plain": [
              "          Decision Tree Sigmoid SVC Logistic regression    KNN Bagging  \\\n",
              "F1-scores        77.86%      84.08%              89.69%  80.6%  89.55%   \n",
              "\n",
              "          Stacking AdaBoost  \n",
              "F1-scores   91.27%   78.35%  "
            ],
            "text/html": [
              "\n",
              "  <div id=\"df-2dc31654-b083-4545-8d39-2aa81f4d1a4d\">\n",
              "    <div class=\"colab-df-container\">\n",
              "      <div>\n",
              "<style scoped>\n",
              "    .dataframe tbody tr th:only-of-type {\n",
              "        vertical-align: middle;\n",
              "    }\n",
              "\n",
              "    .dataframe tbody tr th {\n",
              "        vertical-align: top;\n",
              "    }\n",
              "\n",
              "    .dataframe thead th {\n",
              "        text-align: right;\n",
              "    }\n",
              "</style>\n",
              "<table border=\"1\" class=\"dataframe\">\n",
              "  <thead>\n",
              "    <tr style=\"text-align: right;\">\n",
              "      <th></th>\n",
              "      <th>Decision Tree</th>\n",
              "      <th>Sigmoid SVC</th>\n",
              "      <th>Logistic regression</th>\n",
              "      <th>KNN</th>\n",
              "      <th>Bagging</th>\n",
              "      <th>Stacking</th>\n",
              "      <th>AdaBoost</th>\n",
              "    </tr>\n",
              "  </thead>\n",
              "  <tbody>\n",
              "    <tr>\n",
              "      <th>F1-scores</th>\n",
              "      <td>77.86%</td>\n",
              "      <td>84.08%</td>\n",
              "      <td>89.69%</td>\n",
              "      <td>80.6%</td>\n",
              "      <td>89.55%</td>\n",
              "      <td>91.27%</td>\n",
              "      <td>78.35%</td>\n",
              "    </tr>\n",
              "  </tbody>\n",
              "</table>\n",
              "</div>\n",
              "      <button class=\"colab-df-convert\" onclick=\"convertToInteractive('df-2dc31654-b083-4545-8d39-2aa81f4d1a4d')\"\n",
              "              title=\"Convert this dataframe to an interactive table.\"\n",
              "              style=\"display:none;\">\n",
              "        \n",
              "  <svg xmlns=\"http://www.w3.org/2000/svg\" height=\"24px\"viewBox=\"0 0 24 24\"\n",
              "       width=\"24px\">\n",
              "    <path d=\"M0 0h24v24H0V0z\" fill=\"none\"/>\n",
              "    <path d=\"M18.56 5.44l.94 2.06.94-2.06 2.06-.94-2.06-.94-.94-2.06-.94 2.06-2.06.94zm-11 1L8.5 8.5l.94-2.06 2.06-.94-2.06-.94L8.5 2.5l-.94 2.06-2.06.94zm10 10l.94 2.06.94-2.06 2.06-.94-2.06-.94-.94-2.06-.94 2.06-2.06.94z\"/><path d=\"M17.41 7.96l-1.37-1.37c-.4-.4-.92-.59-1.43-.59-.52 0-1.04.2-1.43.59L10.3 9.45l-7.72 7.72c-.78.78-.78 2.05 0 2.83L4 21.41c.39.39.9.59 1.41.59.51 0 1.02-.2 1.41-.59l7.78-7.78 2.81-2.81c.8-.78.8-2.07 0-2.86zM5.41 20L4 18.59l7.72-7.72 1.47 1.35L5.41 20z\"/>\n",
              "  </svg>\n",
              "      </button>\n",
              "      \n",
              "  <style>\n",
              "    .colab-df-container {\n",
              "      display:flex;\n",
              "      flex-wrap:wrap;\n",
              "      gap: 12px;\n",
              "    }\n",
              "\n",
              "    .colab-df-convert {\n",
              "      background-color: #E8F0FE;\n",
              "      border: none;\n",
              "      border-radius: 50%;\n",
              "      cursor: pointer;\n",
              "      display: none;\n",
              "      fill: #1967D2;\n",
              "      height: 32px;\n",
              "      padding: 0 0 0 0;\n",
              "      width: 32px;\n",
              "    }\n",
              "\n",
              "    .colab-df-convert:hover {\n",
              "      background-color: #E2EBFA;\n",
              "      box-shadow: 0px 1px 2px rgba(60, 64, 67, 0.3), 0px 1px 3px 1px rgba(60, 64, 67, 0.15);\n",
              "      fill: #174EA6;\n",
              "    }\n",
              "\n",
              "    [theme=dark] .colab-df-convert {\n",
              "      background-color: #3B4455;\n",
              "      fill: #D2E3FC;\n",
              "    }\n",
              "\n",
              "    [theme=dark] .colab-df-convert:hover {\n",
              "      background-color: #434B5C;\n",
              "      box-shadow: 0px 1px 3px 1px rgba(0, 0, 0, 0.15);\n",
              "      filter: drop-shadow(0px 1px 2px rgba(0, 0, 0, 0.3));\n",
              "      fill: #FFFFFF;\n",
              "    }\n",
              "  </style>\n",
              "\n",
              "      <script>\n",
              "        const buttonEl =\n",
              "          document.querySelector('#df-2dc31654-b083-4545-8d39-2aa81f4d1a4d button.colab-df-convert');\n",
              "        buttonEl.style.display =\n",
              "          google.colab.kernel.accessAllowed ? 'block' : 'none';\n",
              "\n",
              "        async function convertToInteractive(key) {\n",
              "          const element = document.querySelector('#df-2dc31654-b083-4545-8d39-2aa81f4d1a4d');\n",
              "          const dataTable =\n",
              "            await google.colab.kernel.invokeFunction('convertToInteractive',\n",
              "                                                     [key], {});\n",
              "          if (!dataTable) return;\n",
              "\n",
              "          const docLinkHtml = 'Like what you see? Visit the ' +\n",
              "            '<a target=\"_blank\" href=https://colab.research.google.com/notebooks/data_table.ipynb>data table notebook</a>'\n",
              "            + ' to learn more about interactive tables.';\n",
              "          element.innerHTML = '';\n",
              "          dataTable['output_type'] = 'display_data';\n",
              "          await google.colab.output.renderOutput(dataTable, element);\n",
              "          const docLink = document.createElement('div');\n",
              "          docLink.innerHTML = docLinkHtml;\n",
              "          element.appendChild(docLink);\n",
              "        }\n",
              "      </script>\n",
              "    </div>\n",
              "  </div>\n",
              "  "
            ]
          },
          "metadata": {},
          "execution_count": 20
        }
      ]
    }
  ]
}